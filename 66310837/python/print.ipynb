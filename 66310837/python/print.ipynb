{
 "cells": [
  {
   "cell_type": "code",
   "execution_count": 3,
   "id": "7629b6da-4ec9-4537-865b-a77c573b4308",
   "metadata": {},
   "outputs": [
    {
     "name": "stdout",
     "output_type": "stream",
     "text": [
      "Hello\n",
      "\n",
      "haha 9\n"
     ]
    }
   ],
   "source": [
    "num = 9\n",
    "print(\"Hello\")\n",
    "print()\n",
    "print(\"haha\", num)"
   ]
  },
  {
   "cell_type": "code",
   "execution_count": 7,
   "id": "c8bb7030-996f-4fde-85d5-0bce7700986a",
   "metadata": {},
   "outputs": [
    {
     "name": "stdout",
     "output_type": "stream",
     "text": [
      "56\n",
      "45\n",
      "53-8\n"
     ]
    }
   ],
   "source": [
    "print(56)\n",
    "print(53-8)\n",
    "print('53-8')"
   ]
  },
  {
   "cell_type": "code",
   "execution_count": 21,
   "id": "e3e772d7-1ee6-4ace-99af-fd93330c2706",
   "metadata": {},
   "outputs": [
    {
     "name": "stdout",
     "output_type": "stream",
     "text": [
      "number value: 9\n",
      "tax = 20.5\n",
      "tax = 20.5\n"
     ]
    }
   ],
   "source": [
    "num = 9\n",
    "print(\"number value:\", num)\n",
    "print(\"tax =\", 20.5)\n",
    "print(\"tax = 20.5\")"
   ]
  },
  {
   "cell_type": "code",
   "execution_count": 27,
   "id": "ae3af35f-f7c8-4980-97c7-1bd01670426b",
   "metadata": {},
   "outputs": [
    {
     "name": "stdout",
     "output_type": "stream",
     "text": [
      "3333\n"
     ]
    }
   ],
   "source": [
    "num = 2\n",
    "a = 6\n",
    "salary = 3000\n",
    "_salary = 3333\n",
    "sa_lary = 9999\n",
    "b = 15000 #เงินเดือน\n",
    "print(_salary)"
   ]
  },
  {
   "cell_type": "code",
   "execution_count": 43,
   "id": "ff153269-d9ef-4d76-bf23-cb18a83a2238",
   "metadata": {},
   "outputs": [
    {
     "name": "stdout",
     "output_type": "stream",
     "text": [
      "45 55 65\n",
      "78.5\n"
     ]
    }
   ],
   "source": [
    "num1, num2, num3 = 45, 55, 65\n",
    "print(f\"{num1} {num2} {num3}\")\n",
    "pi = 3.14\n",
    "area = pi*5**2\n",
    "print(area)"
   ]
  },
  {
   "cell_type": "code",
   "execution_count": 67,
   "id": "05bc713e-e53a-4b28-8625-a03f3545c49d",
   "metadata": {},
   "outputs": [
    {
     "name": "stdout",
     "output_type": "stream",
     "text": [
      "9\n",
      "['H', 'l', 'l']\n"
     ]
    }
   ],
   "source": [
    "num = 7\n",
    "num = 9\n",
    "str = \"aeiou\"\n",
    "list = [ i for i in \"Hello\" if i not in str]\n",
    "print(num)\n",
    "print(list)"
   ]
  },
  {
   "cell_type": "code",
   "execution_count": 71,
   "id": "740b6934-db20-4c01-bd94-e058ff7078ce",
   "metadata": {},
   "outputs": [
    {
     "name": "stdout",
     "output_type": "stream",
     "text": [
      "3\n"
     ]
    }
   ],
   "source": [
    "x = 5\n",
    "y = -1.5\n",
    "x = (int)(x+y)\n",
    "print(x)"
   ]
  },
  {
   "cell_type": "code",
   "execution_count": 95,
   "id": "ed8c9f1a-b1f4-461d-9794-821e957c344c",
   "metadata": {},
   "outputs": [
    {
     "name": "stdout",
     "output_type": "stream",
     "text": [
      "Salary: 579000.00 Tax: 21000.00\n"
     ]
    }
   ],
   "source": [
    "salary = 50000\n",
    "tax = salary * (3.5/100)\n",
    "print(f\"Salary: {salary*12-tax*12:.2f} Tax: {tax*12:.2f}\")"
   ]
  }
 ],
 "metadata": {
  "kernelspec": {
   "display_name": "Python 3 (ipykernel)",
   "language": "python",
   "name": "python3"
  },
  "language_info": {
   "codemirror_mode": {
    "name": "ipython",
    "version": 3
   },
   "file_extension": ".py",
   "mimetype": "text/x-python",
   "name": "python",
   "nbconvert_exporter": "python",
   "pygments_lexer": "ipython3",
   "version": "3.11.5"
  }
 },
 "nbformat": 4,
 "nbformat_minor": 5
}
