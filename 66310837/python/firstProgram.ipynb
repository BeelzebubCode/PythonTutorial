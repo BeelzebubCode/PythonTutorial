{
 "cells": [
  {
   "cell_type": "code",
   "execution_count": 5,
   "id": "dfbbbdef-7fd7-46dd-b3d9-28a77c84bfc0",
   "metadata": {},
   "outputs": [
    {
     "name": "stdout",
     "output_type": "stream",
     "text": [
      "hello python\n"
     ]
    }
   ],
   "source": [
    "print(\"hello python\")"
   ]
  },
  {
   "cell_type": "code",
   "execution_count": 7,
   "id": "1998d916-9a70-4fbe-97d6-110ed7e71d9e",
   "metadata": {},
   "outputs": [
    {
     "data": {
      "text/plain": [
       "'hello python'"
      ]
     },
     "execution_count": 7,
     "metadata": {},
     "output_type": "execute_result"
    }
   ],
   "source": [
    "\"hello python\""
   ]
  },
  {
   "cell_type": "code",
   "execution_count": 9,
   "id": "dfdb8537-7905-4dab-9b53-afc80d679bed",
   "metadata": {},
   "outputs": [
    {
     "name": "stdout",
     "output_type": "stream",
     "text": [
      "Hello Python\n",
      " My name is Jirat Fongda\n",
      "I love python programming\n",
      "ฉันรักเมืองไทย ฉันรักภาษาไพทอน\n"
     ]
    }
   ],
   "source": [
    "print(\"Hello Python\")\n",
    "print(\" My name is Jirat Fongda\")\n",
    "print(\"I love python programming\")\n",
    "print(\"ฉันรักเมืองไทย ฉันรักภาษาไพทอน\")"
   ]
  }
 ],
 "metadata": {
  "kernelspec": {
   "display_name": "Python 3 (ipykernel)",
   "language": "python",
   "name": "python3"
  },
  "language_info": {
   "codemirror_mode": {
    "name": "ipython",
    "version": 3
   },
   "file_extension": ".py",
   "mimetype": "text/x-python",
   "name": "python",
   "nbconvert_exporter": "python",
   "pygments_lexer": "ipython3",
   "version": "3.11.5"
  }
 },
 "nbformat": 4,
 "nbformat_minor": 5
}
