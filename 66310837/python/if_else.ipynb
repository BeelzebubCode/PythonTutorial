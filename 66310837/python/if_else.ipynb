{
 "cells": [
  {
   "cell_type": "code",
   "execution_count": 2,
   "metadata": {},
   "outputs": [
    {
     "name": "stdout",
     "output_type": "stream",
     "text": [
      "y plus z is : 12\n"
     ]
    }
   ],
   "source": [
    "x = 13\n",
    "y = 10\n",
    "z = 2\n",
    "if x >= 5:\n",
    "    if y > 10:\n",
    "        print(\"x value is :\", x)\n",
    "        print(\"y value is :\", y)\n",
    "    y += z\n",
    "    print(\"y plus z is :\", y)"
   ]
  },
  {
   "cell_type": "code",
   "execution_count": 4,
   "metadata": {},
   "outputs": [
    {
     "name": "stdout",
     "output_type": "stream",
     "text": [
      "The Number is EVEN  num is =  10\n"
     ]
    }
   ],
   "source": [
    "num = int(input(\"Enter your number :\"))\n",
    "if num % 2 == 1:\n",
    "    print(\"The Number is ODD\", \" num is =\", num)\n",
    "else:\n",
    "    print(\"The Number is EVEN\", \" num is = \", num)"
   ]
  },
  {
   "cell_type": "code",
   "execution_count": 7,
   "metadata": {},
   "outputs": [
    {
     "name": "stdout",
     "output_type": "stream",
     "text": [
      "Z more than OR equal 10\n",
      "Z value is : 100\n"
     ]
    }
   ],
   "source": [
    "x = int(input(\"Enter x value :\"))\n",
    "y = int(input(\"Enter y value :\"))\n",
    "z = x * y\n",
    "if z >= 25:\n",
    "    print(\"Z more than OR equal 10\")\n",
    "else:\n",
    "    print(\"Z less than 10\")\n",
    "print(\"Z value is :\", z)"
   ]
  },
  {
   "cell_type": "code",
   "execution_count": 9,
   "metadata": {},
   "outputs": [
    {
     "name": "stdout",
     "output_type": "stream",
     "text": [
      "x is = 5\n"
     ]
    }
   ],
   "source": [
    "a = int(input(\"Enter num =\"))\n",
    "x = 5\n",
    "if x**3 == a:\n",
    "    print(\"x is =\", x)\n",
    "else:\n",
    "    print(\"Not found\")"
   ]
  },
  {
   "cell_type": "code",
   "execution_count": 10,
   "metadata": {},
   "outputs": [
    {
     "name": "stdout",
     "output_type": "stream",
     "text": [
      "Your grade is C\n"
     ]
    }
   ],
   "source": [
    "score = float(input(\"Enter your score :\"))\n",
    "if score >= 80.0:\n",
    "    print(\"Your grade is A\")\n",
    "elif score >= 70.0:\n",
    "    print(\"Your grade is B\")\n",
    "elif score >= 60.0:\n",
    "    print(\"Your grade is C\")\n",
    "elif score >= 45.0:\n",
    "    print(\"Your grade is D\")\n",
    "else:\n",
    "    print(\"You grade is F\")"
   ]
  },
  {
   "cell_type": "code",
   "execution_count": 20,
   "metadata": {},
   "outputs": [
    {
     "name": "stdout",
     "output_type": "stream",
     "text": [
      "Your grade is A\n"
     ]
    }
   ],
   "source": [
    "score = int(input(\"Enter your score :\"))\n",
    "grade = \"FFFFFDCBAAA\"[score//10]\n",
    "print(f\"Your grade is {grade}\")"
   ]
  },
  {
   "cell_type": "code",
   "execution_count": 54,
   "metadata": {},
   "outputs": [
    {
     "name": "stdout",
     "output_type": "stream",
     "text": [
      "Area = 706.8583470577034\n"
     ]
    }
   ],
   "source": [
    "from math import *\n",
    "value_number = float(input(\"Enter number :\"))\n",
    "if value_number%2 == 0:\n",
    "    area = value_number * value_number\n",
    "elif value_number < 13:\n",
    "    area = 2 * pi * value_number\n",
    "else:\n",
    "    area = pi * value_number**2\n",
    "print(f\"Area = {area}\")"
   ]
  },
  {
   "cell_type": "code",
   "execution_count": 34,
   "metadata": {},
   "outputs": [
    {
     "name": "stdout",
     "output_type": "stream",
     "text": [
      "number > 55\n"
     ]
    }
   ],
   "source": [
    "number = int(input(\"Enter number :\"))\n",
    "if number >= 0 and number <= 99:\n",
    "    if number > 55:\n",
    "        print(\"number > 55\")\n",
    "    elif number < 55:\n",
    "        print(\"number < 55\")\n",
    "    else:\n",
    "        print(\"number = 55\")"
   ]
  },
  {
   "cell_type": "code",
   "execution_count": 38,
   "metadata": {},
   "outputs": [
    {
     "name": "stdout",
     "output_type": "stream",
     "text": [
      "result of 10 = 100\n"
     ]
    }
   ],
   "source": [
    "value_number = int(input(\"Enter number :\"))\n",
    "if value_number%2 != 0:\n",
    "    result = value_number**3\n",
    "else:\n",
    "    result = value_number**2\n",
    "print(f\"result of {value_number} = {result}\")"
   ]
  },
  {
   "cell_type": "code",
   "execution_count": 40,
   "metadata": {},
   "outputs": [
    {
     "name": "stdout",
     "output_type": "stream",
     "text": [
      "30.0\n"
     ]
    }
   ],
   "source": [
    "x = int(input())\n",
    "y = float(input())\n",
    "if x<y and (x>5 or y<15):\n",
    "    result = 3*x\n",
    "else:\n",
    "    result = 2*y\n",
    "print(result)"
   ]
  },
  {
   "cell_type": "code",
   "execution_count": 41,
   "metadata": {},
   "outputs": [
    {
     "name": "stdout",
     "output_type": "stream",
     "text": [
      "50.0\n"
     ]
    }
   ],
   "source": [
    "x, y = 10, 12.50\n",
    "if y<=14:\n",
    "    if y<0:\n",
    "        x = 3*y\n",
    "    else:\n",
    "        x = 4*y\n",
    "else:\n",
    "    x = y**2\n",
    "print(x)"
   ]
  },
  {
   "cell_type": "markdown",
   "metadata": {},
   "source": [
    "HOME WORK MS TEAMS"
   ]
  },
  {
   "cell_type": "code",
   "execution_count": 1,
   "metadata": {},
   "outputs": [
    {
     "name": "stdout",
     "output_type": "stream",
     "text": [
      "[10, 11, 12, 13]\n",
      "Sum = 23\n"
     ]
    }
   ],
   "source": [
    "numbers = input(\"Enter number :\").split()\n",
    "numbers = list(map(int, numbers))\n",
    "print(numbers)\n",
    "\n",
    "max_number = max(numbers)\n",
    "min_number = min(numbers)\n",
    "sum_number = sum(numbers) - (max_number + min_number)\n",
    "print(f\"Sum = {sum_number}\")"
   ]
  },
  {
   "cell_type": "code",
   "execution_count": 30,
   "metadata": {},
   "outputs": [
    {
     "name": "stdout",
     "output_type": "stream",
     "text": [
      "input: 46\n",
      "Size = XL\n"
     ]
    }
   ],
   "source": [
    "number = int(input(\"Enter number :\"))\n",
    "if number < 37:\n",
    "    size = \"XS\"\n",
    "elif number >= 37 and number < 41:\n",
    "    size = \"S\"\n",
    "elif number >= 41 and number < 43:\n",
    "    size = \"M\"\n",
    "elif number >= 43 and number < 46:\n",
    "    size = \"L\"\n",
    "else:\n",
    "    size = \"XL\"\n",
    "\n",
    "print(f\"input: {number}\")\n",
    "print(f\"Size = {size}\")"
   ]
  },
  {
   "cell_type": "code",
   "execution_count": 33,
   "metadata": {},
   "outputs": [
    {
     "name": "stdout",
     "output_type": "stream",
     "text": [
      "input: 12 15 14 13 11\n",
      "False\n"
     ]
    }
   ],
   "source": [
    "number = input().split()\n",
    "number = list(map(int, number))\n",
    "\n",
    "if number == sorted(number):\n",
    "    is_sorted = True\n",
    "else:\n",
    "    is_sorted = False\n",
    "\n",
    "print(f\"input: {' '.join(map(str, number))}\")\n",
    "print(is_sorted)"
   ]
  },
  {
   "cell_type": "code",
   "execution_count": 37,
   "metadata": {},
   "outputs": [
    {
     "name": "stdout",
     "output_type": "stream",
     "text": [
      "input: 4 2556\n",
      "30\n"
     ]
    }
   ],
   "source": [
    "month_days = [31, 28, 31, 30, 31, 30, 31, 31, 30, 31, 30, 31] \n",
    "\n",
    "data = input().split()\n",
    "month, year = int(data[0]), int(data[1])-543\n",
    "\n",
    "# เช็คว่าเป็นปี leap \n",
    "if year % 4 == 0:\n",
    "    if year % 100 == 0:\n",
    "        if year % 400 == 0:\n",
    "            is_leap = True\n",
    "        else:\n",
    "            is_leap = False\n",
    "    else:\n",
    "        is_leap = True\n",
    "else:\n",
    "    is_leap = False\n",
    "\n",
    "# เช็คว่าเป็นเดือนที่ 2 ไหม\n",
    "if month == 2 and is_leap:\n",
    "    month_days[month-1] = 29\n",
    "\n",
    "print(f\"input: {month} {year+543}\")\n",
    "print(month_days[month-1])"
   ]
  },
  {
   "cell_type": "code",
   "execution_count": 3,
   "metadata": {},
   "outputs": [
    {
     "name": "stdout",
     "output_type": "stream",
     "text": [
      "result is :  True\n",
      "result is :  False\n",
      "result is :  False\n",
      "result is :  True\n"
     ]
    }
   ],
   "source": [
    "x = [10, 5, 2]; y=5\n",
    "z = y in x #True\n",
    "print(\"result is : \", z)\n",
    "\n",
    "z = y not in x #False \n",
    "print(\"result is : \", z)\n",
    "\n",
    "x = 10; y = 5\n",
    "z = x is y #False\n",
    "print(\"result is : \", z)\n",
    "\n",
    "z = x is not y #True\n",
    "print(\"result is : \", z)"
   ]
  },
  {
   "cell_type": "code",
   "execution_count": 6,
   "metadata": {},
   "outputs": [
    {
     "name": "stdout",
     "output_type": "stream",
     "text": [
      "3\n"
     ]
    }
   ],
   "source": [
    "x = 5; y = -1.5\n",
    "x = (int)(x+y)\n",
    "print(x)\n",
    "\n",
    "a = \"5\"; b = 10\n",
    "# c = a+b #Error str + int\n",
    "# print(c)"
   ]
  }
 ],
 "metadata": {
  "kernelspec": {
   "display_name": "Python 3",
   "language": "python",
   "name": "python3"
  },
  "language_info": {
   "codemirror_mode": {
    "name": "ipython",
    "version": 3
   },
   "file_extension": ".py",
   "mimetype": "text/x-python",
   "name": "python",
   "nbconvert_exporter": "python",
   "pygments_lexer": "ipython3",
   "version": "3.12.3"
  }
 },
 "nbformat": 4,
 "nbformat_minor": 2
}
