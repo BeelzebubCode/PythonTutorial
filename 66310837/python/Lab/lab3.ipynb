{
 "cells": [
  {
   "cell_type": "code",
   "execution_count": 3,
   "metadata": {},
   "outputs": [
    {
     "name": "stdout",
     "output_type": "stream",
     "text": [
      "z is = 100\n"
     ]
    }
   ],
   "source": [
    "x = int(input(\"x value =\"))\n",
    "y = int(input(\"y value =\"))\n",
    "z = x*y\n",
    "print(\"z is =\",z)"
   ]
  },
  {
   "cell_type": "code",
   "execution_count": 9,
   "metadata": {},
   "outputs": [
    {
     "name": "stdout",
     "output_type": "stream",
     "text": [
      "total tax is :102000.00\n"
     ]
    }
   ],
   "source": [
    "employee = {\n",
    "    \"saraly1\": 5000*12,\n",
    "    \"saraly2\": 10000*12,\n",
    "    \"saraly3\": 20000*12,\n",
    "}\n",
    "\n",
    "taxNum1 = float(input(\"Enter tax : \"))\n",
    "taxNum1 = taxNum1/100\n",
    "taxNum2 = taxNum1*2\n",
    "taxNum3 = taxNum1*3\n",
    "\n",
    "tax1 = employee[\"saraly1\"]*taxNum1\n",
    "tax2 = employee[\"saraly2\"]*taxNum2\n",
    "tax3 = employee[\"saraly3\"]*taxNum3\n",
    "\n",
    "total_tax = tax1 + tax2 + tax3\n",
    "print(f\"total tax is :{total_tax:.2f}\")\n"
   ]
  },
  {
   "cell_type": "code",
   "execution_count": 17,
   "metadata": {},
   "outputs": [
    {
     "name": "stdout",
     "output_type": "stream",
     "text": [
      "5284\n"
     ]
    }
   ],
   "source": [
    "x = int(input(\"Enter x: \"))\n",
    "y = int(input(\"Enter y: \"))\n",
    "result = ((5*x**3) + (3*y**2)) - (x + 6)\n",
    "print(result)"
   ]
  }
 ],
 "metadata": {
  "kernelspec": {
   "display_name": "Python 3",
   "language": "python",
   "name": "python3"
  },
  "language_info": {
   "codemirror_mode": {
    "name": "ipython",
    "version": 3
   },
   "file_extension": ".py",
   "mimetype": "text/x-python",
   "name": "python",
   "nbconvert_exporter": "python",
   "pygments_lexer": "ipython3",
   "version": "3.12.1"
  }
 },
 "nbformat": 4,
 "nbformat_minor": 2
}
