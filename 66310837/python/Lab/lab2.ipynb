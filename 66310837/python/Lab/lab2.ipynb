{
 "cells": [
  {
   "cell_type": "code",
   "execution_count": 5,
   "id": "ca111307-0ed0-4496-a126-814ec8f248c3",
   "metadata": {},
   "outputs": [
    {
     "name": "stdout",
     "output_type": "stream",
     "text": [
      "Jirat Fongda 19 3000\n"
     ]
    }
   ],
   "source": [
    "fname, lname, age, salary = \"Jirat\", \"Fongda\", 19, 3000\n",
    "print(fname, lname, age, salary)"
   ]
  },
  {
   "cell_type": "code",
   "execution_count": 13,
   "id": "238de636-e9be-4b03-af0e-a85322bd66bc",
   "metadata": {},
   "outputs": [
    {
     "name": "stdout",
     "output_type": "stream",
     "text": [
      "3132.5\n"
     ]
    }
   ],
   "source": [
    "price = 3500\n",
    "discounts = price*10.50/100\n",
    "total_price = price - discounts\n",
    "print(total_price)"
   ]
  },
  {
   "cell_type": "code",
   "execution_count": 15,
   "id": "c29ed30e-b879-4a02-a90b-59d510a0f729",
   "metadata": {},
   "outputs": [
    {
     "name": "stdout",
     "output_type": "stream",
     "text": [
      "40.5\n"
     ]
    }
   ],
   "source": [
    "a = 10\n",
    "b, c = 24, 30.5\n",
    "d = \"Python\"\n",
    "e = a + c\n",
    "print(e)"
   ]
  },
  {
   "cell_type": "code",
   "execution_count": 19,
   "id": "b6a4ce8a-4e66-4377-87e4-a62e08a65bd1",
   "metadata": {},
   "outputs": [
    {
     "name": "stdout",
     "output_type": "stream",
     "text": [
      "-2.960625\n"
     ]
    }
   ],
   "source": [
    "x = 0.15\n",
    "y = 5*x**3 + x**2 - 3\n",
    "print(y)"
   ]
  },
  {
   "cell_type": "code",
   "execution_count": 69,
   "id": "c91e5413-9e0c-4d88-a45b-b03afe8214a0",
   "metadata": {},
   "outputs": [
    {
     "name": "stdout",
     "output_type": "stream",
     "text": [
      "A price:4500 ราคาที่ลด: 4207.5\n",
      "B price:12000 ราคาที่ลด: 10800.0\n",
      "C price:6000 ราคาที่ลด: 5760.0\n",
      "Total Discounts: 1732.5\n"
     ]
    }
   ],
   "source": [
    "data = {\n",
    "    \"A\": {\n",
    "        price: 4500,\n",
    "        discounts: 6.5/100\n",
    "    },\n",
    "    \"B\": {\n",
    "        price: 12000,\n",
    "        discounts: 10/100\n",
    "    },\n",
    "    \"C\": {\n",
    "        price: 6000,\n",
    "        discounts: 4/100\n",
    "    },\n",
    "}\n",
    "\n",
    "total_discounts = 0\n",
    "for item in data.keys():\n",
    "    tax = data[item][price] * data[item][discounts]\n",
    "    total_discounts+=tax\n",
    "    total_price = data[item][price] - tax\n",
    "    print(f\"{item} price:{data[item][price]} ราคาที่ลด: {total_price}\")\n",
    "print(f\"Total Discounts: {total_discounts}\")"
   ]
  },
  {
   "cell_type": "code",
   "execution_count": 64,
   "id": "f6ba84da-0b2a-40d8-a444-5116598f2846",
   "metadata": {},
   "outputs": [
    {
     "name": "stdout",
     "output_type": "stream",
     "text": [
      "num2: 5.4\n",
      "num3: 2.4000000000000004\n",
      "num4: 13.824000000000007\n",
      "num5: 3.0\n"
     ]
    }
   ],
   "source": [
    "num1 = 25\n",
    "num2 = 5 #; print(num2)\n",
    "num1+=2 #; print(num1)\n",
    "num2 = num1 / num2 #; print(num2)\n",
    "num3 = num2%3 #; print(num3)\n",
    "num4 = num3**3 #; print(num4)\n",
    "num5 = num4//4 #; print(num5)\n",
    "print(f\"num2: {num2}\\nnum3: {num3}\\nnum4: {num4}\\nnum5: {num5}\")"
   ]
  },
  {
   "cell_type": "code",
   "execution_count": 66,
   "id": "739d561f-7448-43f8-9b46-0db8d613ed03",
   "metadata": {},
   "outputs": [
    {
     "name": "stdout",
     "output_type": "stream",
     "text": [
      "Area : 42.00\n"
     ]
    }
   ],
   "source": [
    "height = 10.5\n",
    "base = 8\n",
    "area_triangle = 1/2*base*height\n",
    "print(\"Area : %.2f\" % area_triangle)"
   ]
  },
  {
   "cell_type": "code",
   "execution_count": null,
   "id": "2e084cd5-9e54-4227-a7fe-f6a5406639f3",
   "metadata": {},
   "outputs": [],
   "source": []
  }
 ],
 "metadata": {
  "kernelspec": {
   "display_name": "Python 3 (ipykernel)",
   "language": "python",
   "name": "python3"
  },
  "language_info": {
   "codemirror_mode": {
    "name": "ipython",
    "version": 3
   },
   "file_extension": ".py",
   "mimetype": "text/x-python",
   "name": "python",
   "nbconvert_exporter": "python",
   "pygments_lexer": "ipython3",
   "version": "3.11.5"
  }
 },
 "nbformat": 4,
 "nbformat_minor": 5
}
