{
 "cells": [
  {
   "cell_type": "code",
   "execution_count": 1,
   "metadata": {},
   "outputs": [
    {
     "name": "stdout",
     "output_type": "stream",
     "text": [
      "0 is even\n",
      "1 is odd\n",
      "2 is even\n",
      "3 is odd\n",
      "4 is even\n",
      "5 is odd\n",
      "6 is even\n"
     ]
    }
   ],
   "source": [
    "i = 0\n",
    "while i<=6:\n",
    "    if i%2 == 0:\n",
    "        print(i, \"is even\")\n",
    "    else:\n",
    "        print(i, \"is odd\")\n",
    "    i+=1"
   ]
  },
  {
   "cell_type": "code",
   "execution_count": 2,
   "metadata": {},
   "outputs": [
    {
     "name": "stdout",
     "output_type": "stream",
     "text": [
      "1\n",
      "3\n",
      "5\n"
     ]
    }
   ],
   "source": [
    "count = 0\n",
    "while count <= 6:\n",
    "    if count %2 != 0:\n",
    "        print(count)\n",
    "    count += 1"
   ]
  },
  {
   "cell_type": "code",
   "execution_count": 4,
   "metadata": {},
   "outputs": [
    {
     "name": "stdout",
     "output_type": "stream",
     "text": [
      "Sum 1 to  7  is  21\n"
     ]
    }
   ],
   "source": [
    "n = int(input(\"Enter numner =\"))\n",
    "i = 1; sum = 0\n",
    "while i < n:\n",
    "    sum += i\n",
    "    i+=1\n",
    "print(\"Sum 1 to \",n ,\" is \", sum)"
   ]
  },
  {
   "cell_type": "code",
   "execution_count": 8,
   "metadata": {},
   "outputs": [
    {
     "name": "stdout",
     "output_type": "stream",
     "text": [
      "Sum = 45\n"
     ]
    }
   ],
   "source": [
    "sum = 0\n",
    "while True:\n",
    "    number = int(input())\n",
    "    if number == 0: break\n",
    "    if all([number %3 == 0, number %5 == 0]):\n",
    "        sum += number\n",
    "\n",
    "print(\"Sum =\", sum)"
   ]
  },
  {
   "cell_type": "code",
   "execution_count": 13,
   "metadata": {},
   "outputs": [
    {
     "name": "stdout",
     "output_type": "stream",
     "text": [
      "input: 7\n",
      "Sum = 16 \n",
      "Avg = 4.0\n"
     ]
    }
   ],
   "source": [
    "n = int(input())\n",
    "i = 1; sum = 0; count = 0\n",
    "while i <= n:\n",
    "    if i % 2 != 0:\n",
    "        count += 1\n",
    "        sum += i\n",
    "    i += 1\n",
    "\n",
    "avg = sum / count\n",
    "print(f\"input: {n}\")\n",
    "print(\"Sum =\", sum,\"\\nAvg =\", avg)"
   ]
  },
  {
   "cell_type": "code",
   "execution_count": 14,
   "metadata": {},
   "outputs": [
    {
     "name": "stdout",
     "output_type": "stream",
     "text": [
      "100 62\n"
     ]
    }
   ],
   "source": [
    "even = odd = 0\n",
    "while True:\n",
    "    num = int(input())\n",
    "    if num == 0:\n",
    "        break\n",
    "    if num % 2 == 0:\n",
    "        even += num\n",
    "    else:\n",
    "        odd += num\n",
    "\n",
    "print(even, odd)"
   ]
  },
  {
   "cell_type": "code",
   "execution_count": 15,
   "metadata": {},
   "outputs": [
    {
     "name": "stdout",
     "output_type": "stream",
     "text": [
      "61\n",
      "3\n",
      "25\n",
      "33\n"
     ]
    }
   ],
   "source": [
    "a = [12, 33, 61, 1, 3, 13, 25, 10, 8, 12, 33]\n",
    "i = 0\n",
    "while i<len(a):\n",
    "    if a[i]%2!=0:\n",
    "        print(a[i])\n",
    "    i+=2"
   ]
  }
 ],
 "metadata": {
  "kernelspec": {
   "display_name": "Python 3",
   "language": "python",
   "name": "python3"
  },
  "language_info": {
   "codemirror_mode": {
    "name": "ipython",
    "version": 3
   },
   "file_extension": ".py",
   "mimetype": "text/x-python",
   "name": "python",
   "nbconvert_exporter": "python",
   "pygments_lexer": "ipython3",
   "version": "3.12.3"
  }
 },
 "nbformat": 4,
 "nbformat_minor": 2
}
