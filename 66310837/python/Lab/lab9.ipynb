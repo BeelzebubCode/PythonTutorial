{
 "cells": [
  {
   "cell_type": "code",
   "execution_count": 22,
   "metadata": {},
   "outputs": [
    {
     "name": "stdout",
     "output_type": "stream",
     "text": [
      "['ยำวุ้นเส้นทะเล', 'ข้าวผัดพริกหยวก', 'ข้าวผัดแหนม']\n"
     ]
    }
   ],
   "source": [
    "from random import choices\n",
    "\n",
    "def get_menu_data(file_name=\"./menu.txt\"):\n",
    "    with open(file_name, encoding=\"utf8\") as file:\n",
    "        data = file.readlines()\n",
    "        \n",
    "    menus = [food.strip() for food in data]\n",
    "    return menus\n",
    "\n",
    "\n",
    "menus_data = get_menu_data()\n",
    "\n",
    "num = int(input(\"Enter number a menu: \"))\n",
    "menu_of_day = choices(menus_data, k=num)\n",
    "print(menu_of_day)"
   ]
  }
 ],
 "metadata": {
  "kernelspec": {
   "display_name": "Python 3",
   "language": "python",
   "name": "python3"
  },
  "language_info": {
   "codemirror_mode": {
    "name": "ipython",
    "version": 3
   },
   "file_extension": ".py",
   "mimetype": "text/x-python",
   "name": "python",
   "nbconvert_exporter": "python",
   "pygments_lexer": "ipython3",
   "version": "3.12.3"
  }
 },
 "nbformat": 4,
 "nbformat_minor": 2
}
