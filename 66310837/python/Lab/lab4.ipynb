{
 "cells": [
  {
   "cell_type": "code",
   "execution_count": 3,
   "metadata": {},
   "outputs": [
    {
     "name": "stdout",
     "output_type": "stream",
     "text": [
      "{'Mango', 'Durian', 'Cranberry', 'Banana', 'Apple'}\n"
     ]
    }
   ],
   "source": [
    "Fruits = {\"Apple\", \"Banana\", \"Cranberry\", \"Durian\"}\n",
    "Fruits.add(\"Mango\")\n",
    "print(Fruits)"
   ]
  },
  {
   "cell_type": "code",
   "execution_count": 4,
   "metadata": {},
   "outputs": [
    {
     "name": "stdout",
     "output_type": "stream",
     "text": [
      "5\n",
      "7\n",
      "64\n",
      "28\n"
     ]
    }
   ],
   "source": [
    "x = (3, 9, 7, 5, 4)\n",
    "y = [3, 9, 7, 5, 4, 7, 3 ,2]\n",
    "\n",
    "print(x[3]) #5\n",
    "print(y[-3]) #7\n",
    "print(x[-1]**y[-2]) #4**3 = 64\n",
    "print(x[2]*y[4]) #7 * 4 = 28"
   ]
  },
  {
   "cell_type": "code",
   "execution_count": 5,
   "metadata": {},
   "outputs": [
    {
     "name": "stdout",
     "output_type": "stream",
     "text": [
      "[1, 4, 1]\n"
     ]
    }
   ],
   "source": [
    "a = [3, 1, 4, 1, 5 ,9]\n",
    "print(a[1:4])"
   ]
  },
  {
   "cell_type": "code",
   "execution_count": 11,
   "metadata": {},
   "outputs": [
    {
     "name": "stdout",
     "output_type": "stream",
     "text": [
      "[3, 1]\n",
      "Python programming\n"
     ]
    }
   ],
   "source": [
    "a = [3, 1, 4, 1, 5 ,9]\n",
    "a.insert(2, \"Python\")\n",
    "a.insert(5, \"programming\")\n",
    "print(a[:2])\n",
    "print(a[2], a[5])"
   ]
  },
  {
   "cell_type": "code",
   "execution_count": 12,
   "metadata": {},
   "outputs": [
    {
     "name": "stdout",
     "output_type": "stream",
     "text": [
      "{1, 2, 3, 4, 5, 6, 7}\n"
     ]
    }
   ],
   "source": [
    "a = {1, 2, 3, 4, 5}\n",
    "b = {3, 4, 5, 6, 7}\n",
    "result = a | b #a.union(b)\n",
    "print(result)"
   ]
  },
  {
   "cell_type": "code",
   "execution_count": 13,
   "metadata": {},
   "outputs": [
    {
     "name": "stdout",
     "output_type": "stream",
     "text": [
      "(1, 15, 8, 6, 12)\n"
     ]
    }
   ],
   "source": [
    "n = (1, 15, 8, 6, 12, \"Python\", \"C++\", \"Java\", \"PHP\", \"Thailand\"  , \"America\", \"Lao\", \"China\")\n",
    "print(n[:5])"
   ]
  },
  {
   "cell_type": "code",
   "execution_count": 14,
   "metadata": {},
   "outputs": [
    {
     "name": "stdout",
     "output_type": "stream",
     "text": [
      "('Python', 'C++', 'Java', 'PHP')\n"
     ]
    }
   ],
   "source": [
    "n = (1, 15, 8, 6, 12, \"Python\", \"C++\", \"Java\", \"PHP\", \"Thailand\"  , \"America\", \"Lao\", \"China\")\n",
    "print(n[5:9])"
   ]
  },
  {
   "cell_type": "code",
   "execution_count": 26,
   "metadata": {},
   "outputs": [
    {
     "name": "stdout",
     "output_type": "stream",
     "text": [
      "('Thailand', 'America', 'Lao', 'China')\n"
     ]
    }
   ],
   "source": [
    "n = (1, 15, 8, 6, 12, \"Python\", \"C++\", \"Java\", \"PHP\", \"Thailand\", \"America\", \"Lao\", \"China\")\n",
    "print(n[9:])"
   ]
  },
  {
   "cell_type": "code",
   "execution_count": 28,
   "metadata": {},
   "outputs": [
    {
     "name": "stdout",
     "output_type": "stream",
     "text": [
      "('Python', 'C++', 'Java', 'PHP', 15, 8, 6)\n"
     ]
    }
   ],
   "source": [
    "n = (1, 15, 8, 6, 12, \"Python\", \"C++\", \"Java\", \"PHP\", \"Thailand\", \"America\", \"Lao\", \"China\")\n",
    "programming = n[5:9]\n",
    "number = n[1:4]\n",
    "result = programming + number\n",
    "print(result)"
   ]
  },
  {
   "cell_type": "code",
   "execution_count": 31,
   "metadata": {},
   "outputs": [
    {
     "name": "stdout",
     "output_type": "stream",
     "text": [
      "May\n",
      "August\n",
      "November\n"
     ]
    }
   ],
   "source": [
    "months = {\n",
    "    1: \"January\",\n",
    "    2: \"February\",\n",
    "    3: \"March\",\n",
    "    4: \"April\",\n",
    "    5: \"May\",\n",
    "    6: \"June\",\n",
    "    7: \"July\",\n",
    "    8: \"August\",\n",
    "    9: \"September\",\n",
    "    10: \"October\",\n",
    "    11: \"November\",\n",
    "    12: \"December\"\n",
    "}\n",
    "\n",
    "key_5 = months.get(5)\n",
    "key_8 = months.get(8)\n",
    "key_11 = months.get(11)\n",
    "\n",
    "print(key_5)\n",
    "print(key_8)\n",
    "print(key_11)"
   ]
  },
  {
   "cell_type": "code",
   "execution_count": 33,
   "metadata": {},
   "outputs": [
    {
     "name": "stdout",
     "output_type": "stream",
     "text": [
      "['January', 'February', 'March', 'April', 'May', 'June', 'July', 'August', 'September', 'October', 'November', 'December']\n"
     ]
    }
   ],
   "source": [
    "months = {\n",
    "    1: \"January\",\n",
    "    2: \"February\",\n",
    "    3: \"March\",\n",
    "    4: \"April\",\n",
    "    5: \"May\",\n",
    "    6: \"June\",\n",
    "    7: \"July\",\n",
    "    8: \"August\",\n",
    "    9: \"September\",\n",
    "    10: \"October\",\n",
    "    11: \"November\",\n",
    "    12: \"December\"\n",
    "}\n",
    "\n",
    "value_of_months = months.values()\n",
    "print(list(value_of_months))"
   ]
  },
  {
   "cell_type": "code",
   "execution_count": 1,
   "metadata": {},
   "outputs": [
    {
     "name": "stdout",
     "output_type": "stream",
     "text": [
      "numbers in list = 8\n",
      "Min number = -5\n",
      "Max number = 12\n"
     ]
    }
   ],
   "source": [
    "numbers = [12, 3, 1, -5, 8, 3, -2, 10]\n",
    "print('numbers in list =', len(numbers))\n",
    "print('Min number =', min(numbers))\n",
    "print('Max number =', max(numbers))"
   ]
  }
 ],
 "metadata": {
  "kernelspec": {
   "display_name": "Python 3",
   "language": "python",
   "name": "python3"
  },
  "language_info": {
   "codemirror_mode": {
    "name": "ipython",
    "version": 3
   },
   "file_extension": ".py",
   "mimetype": "text/x-python",
   "name": "python",
   "nbconvert_exporter": "python",
   "pygments_lexer": "ipython3",
   "version": "3.12.3"
  }
 },
 "nbformat": 4,
 "nbformat_minor": 2
}
