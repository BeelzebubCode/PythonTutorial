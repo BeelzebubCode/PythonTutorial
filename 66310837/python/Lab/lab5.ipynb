{
 "cells": [
  {
   "cell_type": "code",
   "execution_count": 1,
   "metadata": {},
   "outputs": [
    {
     "name": "stdout",
     "output_type": "stream",
     "text": [
      "true\n",
      "false\n"
     ]
    }
   ],
   "source": [
    "pi = 3.141\n",
    "if pi < 4:\n",
    "    print(\"true\")\n",
    "print(\"false\")"
   ]
  },
  {
   "cell_type": "code",
   "execution_count": 13,
   "metadata": {},
   "outputs": [
    {
     "name": "stdout",
     "output_type": "stream",
     "text": [
      "Correct\n"
     ]
    }
   ],
   "source": [
    "# str = input()\n",
    "# print(f\"input: {str}\")\n",
    "\n",
    "# if \"7\" in str:\n",
    "#     print(\"Correct\")\n",
    "# else:\n",
    "#     print(\"Incorrect\")\n",
    "##################################\n",
    "num = int(input())\n",
    "\n",
    "if num%7 == 0:\n",
    "    print(\"Correct\")\n",
    "else:\n",
    "    print(\"Incorrect\")\n"
   ]
  },
  {
   "cell_type": "code",
   "execution_count": 10,
   "metadata": {},
   "outputs": [
    {
     "name": "stdout",
     "output_type": "stream",
     "text": [
      "27000.0\n"
     ]
    }
   ],
   "source": [
    "salary = float(input())\n",
    "\n",
    "if salary > 35000: tax = 0.1\n",
    "elif salary > 25000: tax = 0.075\n",
    "elif salary > 15000: tax = 0.055\n",
    "else: tax = 0.03\n",
    "\n",
    "pay = salary*tax*12\n",
    "print(pay)"
   ]
  },
  {
   "cell_type": "code",
   "execution_count": 7,
   "metadata": {},
   "outputs": [
    {
     "name": "stdout",
     "output_type": "stream",
     "text": [
      "Low\n"
     ]
    }
   ],
   "source": [
    "dice_first = int(input())\n",
    "dice_second = int(input())\n",
    "\n",
    "sum_dice = dice_first + dice_second\n",
    "if sum_dice > 6:\n",
    "    print(\"High\")\n",
    "else:\n",
    "    print(\"Low\")"
   ]
  },
  {
   "cell_type": "code",
   "execution_count": 8,
   "metadata": {},
   "outputs": [
    {
     "name": "stdout",
     "output_type": "stream",
     "text": [
      "20\n"
     ]
    }
   ],
   "source": [
    "x, y = 15, 10\n",
    "if y <= 15:\n",
    "    if y < 0:\n",
    "        x = 5*y\n",
    "    else:\n",
    "        x = 2*y\n",
    "else:\n",
    "    x = 3*y\n",
    "print(x)"
   ]
  }
 ],
 "metadata": {
  "kernelspec": {
   "display_name": "Python 3",
   "language": "python",
   "name": "python3"
  },
  "language_info": {
   "codemirror_mode": {
    "name": "ipython",
    "version": 3
   },
   "file_extension": ".py",
   "mimetype": "text/x-python",
   "name": "python",
   "nbconvert_exporter": "python",
   "pygments_lexer": "ipython3",
   "version": "3.12.3"
  }
 },
 "nbformat": 4,
 "nbformat_minor": 2
}
