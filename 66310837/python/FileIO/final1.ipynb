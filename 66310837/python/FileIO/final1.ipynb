{
 "cells": [
  {
   "cell_type": "code",
   "execution_count": 4,
   "metadata": {},
   "outputs": [],
   "source": [
    "file = open(\"./testFile.txt\", \"w\")\n",
    "file.write(\"Hello File IO Python Test\")\n",
    "file.close()"
   ]
  },
  {
   "cell_type": "code",
   "execution_count": 7,
   "metadata": {},
   "outputs": [],
   "source": [
    "import os \n",
    "\n",
    "os.remove(r\"C:\\Python\\66310837\\python\\FileIO\\testFile.txt\") "
   ]
  },
  {
   "cell_type": "code",
   "execution_count": 39,
   "metadata": {},
   "outputs": [],
   "source": [
    "menu_count = int(input(\"Enter count menu list: \"))\n",
    "\n",
    "with open(\"./menu.txt\", \"a\", encoding=\"utf8\") as data:\n",
    "    for i in range(menu_count):\n",
    "        data.write(input()+\"\\n\")\n"
   ]
  },
  {
   "cell_type": "code",
   "execution_count": 38,
   "metadata": {},
   "outputs": [],
   "source": [
    "os.remove(\"./menu.txt\")"
   ]
  },
  {
   "cell_type": "code",
   "execution_count": 40,
   "metadata": {},
   "outputs": [
    {
     "name": "stdout",
     "output_type": "stream",
     "text": [
      "1: ปีกไก่ทอด\n",
      "2: ข้าวผัด–หมู–ไก่\n",
      "3: ข้าวผัด–กุ้ง–ปลาหมึก–ทะเล\n",
      "4: หมูแดดเดียว\n",
      "5: หมูย่าง\n",
      "6: ยำหมูมะนาว\n",
      "7: ต้มยำกุ้ง\n",
      "8: พะแนง-หมู-ไก่\n",
      "9: ต้มจืดเต้าหู้หมูสับ\n",
      "10: ข้าวต้มกุ้ง\n"
     ]
    }
   ],
   "source": [
    "with open(\"./menu.txt\", encoding=\"utf8\") as file:\n",
    "    data = [item.rstrip() for item in file.readlines()]\n",
    "\n",
    "for i in range(1, len(data)+1):\n",
    "    print(f\"{i}: {data[i-1]}\")"
   ]
  },
  {
   "cell_type": "code",
   "execution_count": 57,
   "metadata": {},
   "outputs": [
    {
     "name": "stdout",
     "output_type": "stream",
     "text": [
      "['ปีกไก่ทอด', 'ข้าวผัด–หมู–ไก่', 'ข้าวผัด–กุ้ง–ปลาหมึก–ทะเล', 'หมูแดดเดียว', 'หมูย่าง', 'ยำหมูมะนาว', 'ต้มยำกุ้ง', 'พะแนง-หมู-ไก่', 'ต้มจืดเต้าหู้หมูสับ', 'ข้าวต้มกุ้ง']\n",
      "ข้าวต้มกุ้ง\n"
     ]
    }
   ],
   "source": [
    "from random import choice\n",
    "\n",
    "print(data)\n",
    "menu_day = choice(data)\n",
    "print(menu_day)"
   ]
  }
 ],
 "metadata": {
  "kernelspec": {
   "display_name": "Python 3",
   "language": "python",
   "name": "python3"
  },
  "language_info": {
   "codemirror_mode": {
    "name": "ipython",
    "version": 3
   },
   "file_extension": ".py",
   "mimetype": "text/x-python",
   "name": "python",
   "nbconvert_exporter": "python",
   "pygments_lexer": "ipython3",
   "version": "3.12.3"
  }
 },
 "nbformat": 4,
 "nbformat_minor": 2
}
