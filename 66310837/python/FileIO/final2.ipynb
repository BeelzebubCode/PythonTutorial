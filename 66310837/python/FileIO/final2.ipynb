{
 "cells": [
  {
   "cell_type": "code",
   "execution_count": 3,
   "metadata": {},
   "outputs": [
    {
     "name": "stdout",
     "output_type": "stream",
     "text": [
      "ปีกไก่ทอด\n",
      "ข้าวผัด–หมู–ไก่\n",
      "ข้าวผัด–กุ้ง–ปลาหมึก–ทะเล\n",
      "หมูแดดเดียว\n",
      "หมูย่าง\n",
      "ยำหมูมะนาว\n",
      "ต้มยำกุ้ง\n",
      "พะแนง-หมู-ไก่\n",
      "ต้มจืดเต้าหู้หมูสับ\n",
      "ข้าวต้มกุ้ง\n"
     ]
    }
   ],
   "source": [
    "file = open(\"./menu.txt\", \"r\", encoding=\"utf8\")\n",
    "data = file.read()\n",
    "print(data)\n",
    "file.close()"
   ]
  },
  {
   "cell_type": "code",
   "execution_count": 4,
   "metadata": {},
   "outputs": [
    {
     "name": "stdout",
     "output_type": "stream",
     "text": [
      "ปีกไก่ทอด\n",
      "ข้าวผัด–หมู–ไก่\n",
      "ข้าวผัด–กุ้ง–ปลาหมึก–ทะเล\n",
      "หมูแดดเดียว\n",
      "หมูย่าง\n",
      "ยำหมูมะนาว\n",
      "ต้มยำกุ้ง\n",
      "พะแนง-หมู-ไก่\n",
      "ต้มจืดเต้าหู้หมูสับ\n",
      "ข้าวต้มกุ้ง\n"
     ]
    }
   ],
   "source": [
    "with open(r\"C:\\Python\\66310837\\python\\FileIO\\menu.txt\", encoding=\"utf8\") as file:\n",
    "    data = file.read()\n",
    "    print(data)"
   ]
  },
  {
   "cell_type": "code",
   "execution_count": 5,
   "metadata": {},
   "outputs": [],
   "source": [
    "with open(\"./testFile.txt\", \"w\") as file:\n",
    "    file.write(\"Hello World!\")"
   ]
  },
  {
   "cell_type": "code",
   "execution_count": 7,
   "metadata": {},
   "outputs": [],
   "source": [
    "with open(\"./testFile.txt\", \"a\") as file:\n",
    "    file.write(\"\\npython\")"
   ]
  },
  {
   "cell_type": "code",
   "execution_count": 8,
   "metadata": {},
   "outputs": [],
   "source": [
    "with open(\"./testFile2.txt\", \"a\") as file:\n",
    "    file.write(\"Hello python\")"
   ]
  },
  {
   "cell_type": "code",
   "execution_count": 9,
   "metadata": {},
   "outputs": [],
   "source": [
    "import os \n",
    "\n",
    "os.mkdir(\"./F1\")"
   ]
  },
  {
   "cell_type": "code",
   "execution_count": 13,
   "metadata": {},
   "outputs": [],
   "source": [
    "os.mkdir(\"./F2\")"
   ]
  },
  {
   "cell_type": "code",
   "execution_count": 15,
   "metadata": {},
   "outputs": [
    {
     "data": {
      "text/plain": [
       "'c:\\\\Python\\\\66310837\\\\python\\\\FileIO'"
      ]
     },
     "execution_count": 15,
     "metadata": {},
     "output_type": "execute_result"
    }
   ],
   "source": [
    "# os.rmdir(\"./F1\")\n",
    "os.getcwd()"
   ]
  },
  {
   "cell_type": "code",
   "execution_count": 14,
   "metadata": {},
   "outputs": [],
   "source": [
    "with open(\"./F2/testF2.txt\", \"w\") as file:\n",
    "    file.write(\"Jirat Fongda\")"
   ]
  }
 ],
 "metadata": {
  "kernelspec": {
   "display_name": "Python 3",
   "language": "python",
   "name": "python3"
  },
  "language_info": {
   "codemirror_mode": {
    "name": "ipython",
    "version": 3
   },
   "file_extension": ".py",
   "mimetype": "text/x-python",
   "name": "python",
   "nbconvert_exporter": "python",
   "pygments_lexer": "ipython3",
   "version": "3.12.3"
  }
 },
 "nbformat": 4,
 "nbformat_minor": 2
}
