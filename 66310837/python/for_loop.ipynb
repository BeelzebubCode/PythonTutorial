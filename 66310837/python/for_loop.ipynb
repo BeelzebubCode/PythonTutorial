{
 "cells": [
  {
   "cell_type": "code",
   "execution_count": 1,
   "metadata": {},
   "outputs": [
    {
     "name": "stdout",
     "output_type": "stream",
     "text": [
      "*\n",
      "**\n",
      "***\n",
      "\n",
      "*\n",
      "**\n",
      "***\n",
      "\n"
     ]
    }
   ],
   "source": [
    "for j in range(1, 3):\n",
    "    for i in range(1, 4):\n",
    "        print(i * \"*\")\n",
    "    print()"
   ]
  },
  {
   "cell_type": "code",
   "execution_count": 3,
   "metadata": {},
   "outputs": [
    {
     "name": "stdout",
     "output_type": "stream",
     "text": [
      "2 x 1 = 2\n",
      "2 x 2 = 4\n",
      "2 x 3 = 6\n",
      "2 x 4 = 8\n",
      "2 x 5 = 10\n",
      "2 x 6 = 12\n",
      "2 x 7 = 14\n",
      "2 x 8 = 16\n",
      "2 x 9 = 18\n",
      "2 x 10 = 20\n",
      "2 x 11 = 22\n",
      "2 x 12 = 24\n"
     ]
    }
   ],
   "source": [
    "i = 2\n",
    "for j in range(1, 13):\n",
    "    result = i * j\n",
    "    print(\"%d x %d = %d\" % (i, j, result))"
   ]
  },
  {
   "cell_type": "code",
   "execution_count": 4,
   "metadata": {},
   "outputs": [
    {
     "name": "stdout",
     "output_type": "stream",
     "text": [
      "***\n",
      "***\n",
      "***\n",
      "***\n",
      "***\n",
      "***\n",
      "***\n"
     ]
    }
   ],
   "source": [
    "num = int(input())\n",
    "for _ in range(num):\n",
    "    print(3*\"*\")"
   ]
  },
  {
   "cell_type": "code",
   "execution_count": 9,
   "metadata": {},
   "outputs": [
    {
     "name": "stdout",
     "output_type": "stream",
     "text": [
      "2 4 6 \n",
      "8 8\n",
      "-3 -11\n",
      "-3\n",
      "8 8\n"
     ]
    }
   ],
   "source": [
    "for i in range(1, 7):\n",
    "    if i % 2 == 0:\n",
    "        print(i, end=\" \")\n",
    "print()\n",
    "\n",
    "num = 8\n",
    "for i in range(1, 4):\n",
    "    print(num, end=\" \")\n",
    "    if num>4:\n",
    "        x=num+3\n",
    "    else:\n",
    "        x=num-8\n",
    "    num = num - x\n"
   ]
  },
  {
   "cell_type": "code",
   "execution_count": 12,
   "metadata": {},
   "outputs": [
    {
     "name": "stdout",
     "output_type": "stream",
     "text": [
      "    * \n",
      "   * * \n",
      "  * * * \n",
      " * * * * \n",
      "* * * * * \n"
     ]
    }
   ],
   "source": [
    "num = int(input())\n",
    "for i in range(1, num+1):\n",
    "    for j in range(num-i):\n",
    "        print(end=\" \")\n",
    "    for k in range(i):\n",
    "        print(\"*\", end=\" \")\n",
    "    print()"
   ]
  },
  {
   "cell_type": "code",
   "execution_count": 14,
   "metadata": {},
   "outputs": [
    {
     "name": "stdout",
     "output_type": "stream",
     "text": [
      "No Data\n"
     ]
    }
   ],
   "source": [
    "sum = count = 0\n",
    "for _ in range(100):\n",
    "    value = float(input())\n",
    "    if value != -1:\n",
    "        sum += value\n",
    "        count += 1\n",
    "        continue\n",
    "    break\n",
    "\n",
    "if sum == 0:\n",
    "    print(\"No Data\")\n",
    "else:\n",
    "    avg = sum/count\n",
    "    print(avg)"
   ]
  }
 ],
 "metadata": {
  "kernelspec": {
   "display_name": "Python 3",
   "language": "python",
   "name": "python3"
  },
  "language_info": {
   "codemirror_mode": {
    "name": "ipython",
    "version": 3
   },
   "file_extension": ".py",
   "mimetype": "text/x-python",
   "name": "python",
   "nbconvert_exporter": "python",
   "pygments_lexer": "ipython3",
   "version": "3.12.3"
  }
 },
 "nbformat": 4,
 "nbformat_minor": 2
}
