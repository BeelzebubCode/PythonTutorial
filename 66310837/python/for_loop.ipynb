{
 "cells": [
  {
   "cell_type": "code",
   "execution_count": 1,
   "metadata": {},
   "outputs": [
    {
     "name": "stdout",
     "output_type": "stream",
     "text": [
      "*\n",
      "**\n",
      "***\n",
      "\n",
      "*\n",
      "**\n",
      "***\n",
      "\n"
     ]
    }
   ],
   "source": [
    "for j in range(1, 3):\n",
    "    for i in range(1, 4):\n",
    "        print(i * \"*\")\n",
    "    print()"
   ]
  },
  {
   "cell_type": "code",
   "execution_count": 3,
   "metadata": {},
   "outputs": [
    {
     "name": "stdout",
     "output_type": "stream",
     "text": [
      "2 x 1 = 2\n",
      "2 x 2 = 4\n",
      "2 x 3 = 6\n",
      "2 x 4 = 8\n",
      "2 x 5 = 10\n",
      "2 x 6 = 12\n",
      "2 x 7 = 14\n",
      "2 x 8 = 16\n",
      "2 x 9 = 18\n",
      "2 x 10 = 20\n",
      "2 x 11 = 22\n",
      "2 x 12 = 24\n"
     ]
    }
   ],
   "source": [
    "i = 2\n",
    "for j in range(1, 13):\n",
    "    result = i * j\n",
    "    print(\"%d x %d = %d\" % (i, j, result))"
   ]
  },
  {
   "cell_type": "code",
   "execution_count": 4,
   "metadata": {},
   "outputs": [
    {
     "name": "stdout",
     "output_type": "stream",
     "text": [
      "***\n",
      "***\n",
      "***\n",
      "***\n",
      "***\n",
      "***\n",
      "***\n"
     ]
    }
   ],
   "source": [
    "num = int(input())\n",
    "for _ in range(num):\n",
    "    print(3*\"*\")"
   ]
  },
  {
   "cell_type": "code",
   "execution_count": 9,
   "metadata": {},
   "outputs": [
    {
     "name": "stdout",
     "output_type": "stream",
     "text": [
      "2 4 6 \n",
      "8 8\n",
      "-3 -11\n",
      "-3\n",
      "8 8\n"
     ]
    }
   ],
   "source": [
    "for i in range(1, 7):\n",
    "    if i % 2 == 0:\n",
    "        print(i, end=\" \")\n",
    "print()\n",
    "\n",
    "num = 8\n",
    "for i in range(1, 4):\n",
    "    print(num, end=\" \")\n",
    "    if num>4:\n",
    "        x=num+3\n",
    "    else:\n",
    "        x=num-8\n",
    "    num = num - x\n"
   ]
  },
  {
   "cell_type": "code",
   "execution_count": 12,
   "metadata": {},
   "outputs": [
    {
     "name": "stdout",
     "output_type": "stream",
     "text": [
      "    * \n",
      "   * * \n",
      "  * * * \n",
      " * * * * \n",
      "* * * * * \n"
     ]
    }
   ],
   "source": [
    "num = int(input())\n",
    "for i in range(1, num+1):\n",
    "    for j in range(num-i):\n",
    "        print(end=\" \")\n",
    "    for k in range(i):\n",
    "        print(\"*\", end=\" \")\n",
    "    print()"
   ]
  },
  {
   "cell_type": "code",
   "execution_count": 14,
   "metadata": {},
   "outputs": [
    {
     "name": "stdout",
     "output_type": "stream",
     "text": [
      "No Data\n"
     ]
    }
   ],
   "source": [
    "sum = count = 0\n",
    "for _ in range(100):\n",
    "    value = float(input())\n",
    "    if value != -1:\n",
    "        sum += value\n",
    "        count += 1\n",
    "        continue\n",
    "    break\n",
    "\n",
    "if sum == 0:\n",
    "    print(\"No Data\")\n",
    "else:\n",
    "    avg = sum/count\n",
    "    print(avg)"
   ]
  },
  {
   "cell_type": "code",
   "execution_count": 2,
   "metadata": {},
   "outputs": [
    {
     "name": "stdout",
     "output_type": "stream",
     "text": [
      "50\n",
      "55\n",
      "65\n"
     ]
    }
   ],
   "source": [
    "for num in iter(input, \"-1\"):\n",
    "    print(num)"
   ]
  },
  {
   "cell_type": "code",
   "execution_count": 4,
   "metadata": {},
   "outputs": [
    {
     "name": "stdout",
     "output_type": "stream",
     "text": [
      "[0, 2, 4, 6, 8, 10, 12, 14, 16, 18, 20, 22, 24, 26, 28, 30, 32, 34, 36, 38, 40, 42, 44, 46, 48, 50, 52, 54, 56, 58, 60, 62, 64, 66, 68, 70, 72, 74, 76, 78, 80, 82, 84, 86, 88, 90, 92, 94, 96, 98, 100]\n",
      "[1, 3, 5, 7, 9, 11, 13, 15, 17, 19, 21, 23, 25, 27, 29, 31, 33, 35, 37, 39, 41, 43, 45, 47, 49, 51, 53, 55, 57, 59, 61, 63, 65, 67, 69, 71, 73, 75, 77, 79, 81, 83, 85, 87, 89, 91, 93, 95, 97, 99]\n"
     ]
    }
   ],
   "source": [
    "# list number even 0 - 100\n",
    "\"\"\"\n",
    "even = []\n",
    "for i in range(101):\n",
    "    if i % 2 == 0:\n",
    "        even.append(i)\n",
    "\"\"\"\n",
    "even = [i for i in range(101) if i%2 == 0]\n",
    "print(even)\n",
    "\n",
    "# list number odd 0 - 100\n",
    "\"\"\"\n",
    "odd = []\n",
    "for i in range(101):\n",
    "    if i % 2 != 0:\n",
    "        odd.append(i)\n",
    "\"\"\"\n",
    "odd = [i for i in range(101) if i%2 != 0]\n",
    "print(odd)"
   ]
  },
  {
   "cell_type": "code",
   "execution_count": 6,
   "metadata": {},
   "outputs": [
    {
     "name": "stdout",
     "output_type": "stream",
     "text": [
      "*\n",
      "**\n",
      "***\n",
      "\n",
      "*\n",
      "**\n",
      "***\n",
      "\n"
     ]
    }
   ],
   "source": [
    "\"\"\"\n",
    "*\n",
    "**\n",
    "***\n",
    "\n",
    "*\n",
    "**\n",
    "***\n",
    "\"\"\"\n",
    "\n",
    "for i in range(1, 3):\n",
    "    for j in range(1, 4):\n",
    "        print(\"*\"*j)\n",
    "    print()\n"
   ]
  },
  {
   "cell_type": "code",
   "execution_count": 2,
   "metadata": {},
   "outputs": [
    {
     "name": "stdout",
     "output_type": "stream",
     "text": [
      "****\n",
      " ***\n",
      "  **\n",
      "   *\n"
     ]
    }
   ],
   "source": [
    "\"\"\"\n",
    "input = 4\n",
    "0 1 2 3\n",
    "\n",
    "****\n",
    " *** \n",
    "  **\n",
    "   *\n",
    "\"\"\"\n",
    "n = int(input())\n",
    "for i in range(n):\n",
    "    k = \" \"*i\n",
    "    print(k + \"*\"*(n-i))"
   ]
  },
  {
   "cell_type": "code",
   "execution_count": 9,
   "metadata": {},
   "outputs": [
    {
     "name": "stdout",
     "output_type": "stream",
     "text": [
      "    * \n",
      "   * * \n",
      "  * * * \n",
      " * * * * \n",
      "* * * * * \n"
     ]
    }
   ],
   "source": [
    "\"\"\"\n",
    "input = 4\n",
    "\n",
    "   *\n",
    "  * *\n",
    " * * *\n",
    "* * * *\n",
    "\"\"\"\n",
    "\n",
    "n = int(input())\n",
    "\n",
    "for i in range(1, n+1):\n",
    "    k = \" \"*(n-i)\n",
    "    print(k + \"* \"*i)\n"
   ]
  },
  {
   "cell_type": "code",
   "execution_count": 17,
   "metadata": {},
   "outputs": [
    {
     "name": "stdout",
     "output_type": "stream",
     "text": [
      "10.0\n"
     ]
    }
   ],
   "source": [
    "sum = count = 0\n",
    "while True:\n",
    "    data = int(input())\n",
    "    if data == -1:\n",
    "        break\n",
    "    sum += data\n",
    "    count += 1\n",
    "\n",
    "if sum == 0: \n",
    "    print(\"No Data!\")\n",
    "else:\n",
    "    avg = sum / count\n",
    "    print(avg)"
   ]
  },
  {
   "cell_type": "code",
   "execution_count": 14,
   "metadata": {},
   "outputs": [
    {
     "name": "stdout",
     "output_type": "stream",
     "text": [
      "<class 'str'>\n"
     ]
    }
   ],
   "source": [
    "for i in iter(input, \"-1\"):\n",
    "    print(type(i))\n",
    "\n",
    "# for i in range(9999999):"
   ]
  },
  {
   "cell_type": "code",
   "execution_count": 30,
   "metadata": {},
   "outputs": [
    {
     "name": "stdout",
     "output_type": "stream",
     "text": [
      "-90 -80 -70 -60 -50 -40 -30 -20 -10 0 \n",
      "-15 -10 -5 0 5 10 \n",
      "1\n",
      "4\n",
      "7\n",
      "10\n",
      "13\n"
     ]
    }
   ],
   "source": [
    "\"\"\"\n",
    "-90 -80 -70 -60 -50 -40 -30 -20 -10 0\n",
    "\n",
    "-15 -10 -5 0 5 10\n",
    "\n",
    "1\n",
    "4\n",
    "7\n",
    "10\n",
    "13\n",
    "\"\"\"\n",
    "for i in range(-90, 1, 10):\n",
    "    print(i, end=\" \")\n",
    "\n",
    "print()\n",
    "for i in range(-15, 11, 5):\n",
    "    print(i, end=\" \")\n",
    "\n",
    "print()\n",
    "for i in range(1, 14, 3):\n",
    "    print(i)\n"
   ]
  },
  {
   "cell_type": "code",
   "execution_count": 34,
   "metadata": {},
   "outputs": [
    {
     "name": "stdout",
     "output_type": "stream",
     "text": [
      "1 2 3 4 5 \n",
      "1 2 3 4 5 "
     ]
    }
   ],
   "source": [
    "a = [1, 2, 3, 4, 5]\n",
    "\n",
    "for i in a:\n",
    "    print(i, end=\" \")\n",
    "\n",
    "print()\n",
    "for i in range(0, len(a)):\n",
    "    print(a[i], end=\" \")"
   ]
  }
 ],
 "metadata": {
  "kernelspec": {
   "display_name": "Python 3",
   "language": "python",
   "name": "python3"
  },
  "language_info": {
   "codemirror_mode": {
    "name": "ipython",
    "version": 3
   },
   "file_extension": ".py",
   "mimetype": "text/x-python",
   "name": "python",
   "nbconvert_exporter": "python",
   "pygments_lexer": "ipython3",
   "version": "3.12.3"
  }
 },
 "nbformat": 4,
 "nbformat_minor": 2
}
