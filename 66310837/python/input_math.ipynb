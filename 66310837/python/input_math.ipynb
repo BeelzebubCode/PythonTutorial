{
 "cells": [
  {
   "cell_type": "code",
   "execution_count": 8,
   "id": "053eb6c3-61f4-471a-97d9-69a4bada509a",
   "metadata": {},
   "outputs": [
    {
     "name": "stdin",
     "output_type": "stream",
     "text": [
      "Enter a number:  43\n"
     ]
    },
    {
     "name": "stdout",
     "output_type": "stream",
     "text": [
      "43.0\n"
     ]
    },
    {
     "name": "stdin",
     "output_type": "stream",
     "text": [
      "My name is:  Jirat\n"
     ]
    },
    {
     "name": "stdout",
     "output_type": "stream",
     "text": [
      "Hello Jirat\n"
     ]
    }
   ],
   "source": [
    "num = float(input(\"Enter a number: \"))\n",
    "print(num)\n",
    "print(\"Hello \" + input(\"My name is: \"))"
   ]
  },
  {
   "cell_type": "code",
   "execution_count": 4,
   "id": "adc063a3-5b7b-441b-851c-bfe623db5b24",
   "metadata": {},
   "outputs": [
    {
     "name": "stdin",
     "output_type": "stream",
     "text": [
      "Enter R:  10\n"
     ]
    },
    {
     "name": "stdout",
     "output_type": "stream",
     "text": [
      "Area : 314.16\n"
     ]
    }
   ],
   "source": [
    "import math as m\n",
    "r = float(input(\"Enter R: \"))\n",
    "area = m.pi*r*r\n",
    "print(\"Area : %.2f\" % area)"
   ]
  },
  {
   "cell_type": "code",
   "execution_count": 30,
   "id": "709af60d-3450-4bcc-8d7f-7472c936203b",
   "metadata": {},
   "outputs": [
    {
     "name": "stdin",
     "output_type": "stream",
     "text": [
      "Enter a: 20.0\n",
      "Enter b: 15\n",
      "Enter c: 50.5\n"
     ]
    },
    {
     "name": "stdout",
     "output_type": "stream",
     "text": [
      "Area : 115.743687508158 (sq.cm)\n"
     ]
    }
   ],
   "source": [
    "a = float(input(\"Enter a:\"))\n",
    "b = float(input(\"Enter b:\"))\n",
    "c = float(input(\"Enter c:\"))\n",
    "area = 1/2*a*b*m.sin(m.radians(c))\n",
    "print(f\"Area : {round(area, 12)} (sq.cm)\")"
   ]
  },
  {
   "cell_type": "code",
   "execution_count": 62,
   "id": "b075077d-4eaf-44d8-ad29-630e8d03e80d",
   "metadata": {},
   "outputs": [
    {
     "name": "stdin",
     "output_type": "stream",
     "text": [
      "Enter a: 5.0\n",
      "Enter b: 26.0\n",
      "Enter c: 90.\n"
     ]
    },
    {
     "name": "stdout",
     "output_type": "stream",
     "text": [
      "c = 26.476404589747453 cm.\n"
     ]
    }
   ],
   "source": [
    "from math import *\n",
    "a = float(input(\"Enter a:\"))\n",
    "b = float(input(\"Enter b:\"))\n",
    "c = float(input(\"Enter c:\"))\n",
    "\n",
    "c2 = sqrt((a**2+b**2) - (2*a*b*cos(radians(c))))\n",
    "print(f\"c = {round(c2, 15)} cm.\")"
   ]
  },
  {
   "cell_type": "code",
   "execution_count": 70,
   "id": "be33c45b-4f18-4000-9af0-5434cd27c436",
   "metadata": {},
   "outputs": [
    {
     "name": "stdin",
     "output_type": "stream",
     "text": [
      " 39.85\n"
     ]
    },
    {
     "name": "stdout",
     "output_type": "stream",
     "text": [
      "103.73 313.0\n"
     ]
    }
   ],
   "source": [
    "import math as m\n",
    "c = float(input())\n",
    "f = 9/5*c + 32\n",
    "k = c + 273.15\n",
    "print(f, k)"
   ]
  }
 ],
 "metadata": {
  "kernelspec": {
   "display_name": "Python 3 (ipykernel)",
   "language": "python",
   "name": "python3"
  },
  "language_info": {
   "codemirror_mode": {
    "name": "ipython",
    "version": 3
   },
   "file_extension": ".py",
   "mimetype": "text/x-python",
   "name": "python",
   "nbconvert_exporter": "python",
   "pygments_lexer": "ipython3",
   "version": "3.11.5"
  }
 },
 "nbformat": 4,
 "nbformat_minor": 5
}
