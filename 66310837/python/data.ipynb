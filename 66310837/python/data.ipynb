{
 "cells": [
  {
   "cell_type": "code",
   "execution_count": 7,
   "id": "aa831887-8562-42b4-8b9c-96110cbd2cf2",
   "metadata": {},
   "outputs": [
    {
     "name": "stdout",
     "output_type": "stream",
     "text": [
      "[1500, 'python', 'Java', 'c++', 'HTML', 'php']\n",
      "4\n"
     ]
    }
   ],
   "source": [
    "salary = [500, \"python\", 1500, \"programming\"]\n",
    "name = [\"python\", \"Java\", \"c++\", \"php\"]\n",
    "name.insert(3, \"HTML\")\n",
    "name.insert(0, 1500)\n",
    "print(name)\n",
    "print(len(salary))"
   ]
  },
  {
   "cell_type": "code",
   "execution_count": 11,
   "id": "891ff9a4-a8fb-4031-9d3d-b2f388d8a6bd",
   "metadata": {},
   "outputs": [
    {
     "name": "stdout",
     "output_type": "stream",
     "text": [
      "[5, 10, 9.4, 150, 'High']\n"
     ]
    }
   ],
   "source": [
    "num = [5, 10, 9.4]\n",
    "num.append(150)\n",
    "num.append(\"High\")\n",
    "print(num)"
   ]
  },
  {
   "cell_type": "markdown",
   "id": "6cefdda2-8ea2-4073-8439-94c75e2b68a2",
   "metadata": {},
   "source": [
    "เมธอด POP() ลบข้อมูลใน LIST โดยการระบุINDEXที่ต้องการลบ (หรือถ้าไม่ระบุ INDEX จะเป็นการลบข้อมูลตัวสุดท้าย)​"
   ]
  },
  {
   "cell_type": "code",
   "execution_count": 16,
   "id": "d78c2b05-38ab-4055-ac38-89dee0645e58",
   "metadata": {},
   "outputs": [
    {
     "name": "stdout",
     "output_type": "stream",
     "text": [
      "[10]\n"
     ]
    }
   ],
   "source": [
    "num = [5, 10, 7]\n",
    "num.pop()\n",
    "num.pop(0)\n",
    "print(num)"
   ]
  },
  {
   "cell_type": "raw",
   "id": "5f43b5ca-6ab7-4908-834a-e5d90b16c337",
   "metadata": {},
   "source": [
    "ลบข้อมูล LIST ด้วย REMOVE()"
   ]
  },
  {
   "cell_type": "code",
   "execution_count": 23,
   "id": "ab7ef3b6-4f8c-4abb-af64-0cd46d9e6f8f",
   "metadata": {},
   "outputs": [
    {
     "name": "stdout",
     "output_type": "stream",
     "text": [
      "[5, 7]\n"
     ]
    }
   ],
   "source": [
    "num = [5, 10, 7]\n",
    "num.remove(10)\n",
    "print(num)"
   ]
  },
  {
   "cell_type": "raw",
   "id": "2512c2e6-084b-4d67-923c-c24da1c5d1a2",
   "metadata": {},
   "source": [
    "ลบข้อมูล LIST ด้วย DEL โดยจะต้องระบุ INDEXที่ต้องการลบ"
   ]
  },
  {
   "cell_type": "code",
   "execution_count": 29,
   "id": "c8bdba28-de90-485b-bb7e-91df7aa3d7e5",
   "metadata": {},
   "outputs": [
    {
     "name": "stdout",
     "output_type": "stream",
     "text": [
      "[5, 10]\n"
     ]
    }
   ],
   "source": [
    "num = [5, 7, 10]\n",
    "del num[1]\n",
    "print(num)"
   ]
  },
  {
   "cell_type": "markdown",
   "metadata": {},
   "source": [
    "List clear() Method"
   ]
  },
  {
   "cell_type": "code",
   "execution_count": 4,
   "id": "74e37a2c",
   "metadata": {},
   "outputs": [
    {
     "name": "stdout",
     "output_type": "stream",
     "text": [
      "[]\n"
     ]
    }
   ],
   "source": [
    "fruits = ['apple', 'banana', 'cherry', 'orange']\n",
    "\n",
    "fruits.clear()\n",
    "print(fruits)"
   ]
  },
  {
   "cell_type": "raw",
   "id": "6149ca34-7e73-454d-9067-7a1caaf4a026",
   "metadata": {},
   "source": [
    "SUB-LIST หรือ LIST SLICING คือการตัดข้อมูลใน LIST\n",
    "รูปแบบ ตัวแปร[ x: y ]\n",
    "    x คือตำแหน่งเริ่มต้น​\n",
    "    y คือตำแหน่งก่อนตัด นั่นคือ จะตัดที่ตำแหน่ง y-1"
   ]
  },
  {
   "cell_type": "code",
   "execution_count": 56,
   "id": "39a82735-e3bc-444d-868f-1d484ee6166c",
   "metadata": {},
   "outputs": [
    {
     "name": "stdout",
     "output_type": "stream",
     "text": [
      "[2, 3]\n",
      "[1, 2, 3, 4]\n",
      "[1, 2, 3, 4, 5]\n",
      "[3, 4, 5, 6, 7]\n",
      "[1, 2, 3, 4, 5, 6, 7]\n",
      "[7, 6, 5, 4, 3, 2, 1]\n",
      "[7]\n"
     ]
    }
   ],
   "source": [
    "num = [1, 2, 3, 4, 5, 6, 7]\n",
    "print(num[1:3])\n",
    "print(num[:4])\n",
    "print(num[0:5])\n",
    "print(num[2:])\n",
    "print(num[:])\n",
    "print(num[::-1])"
   ]
  },
  {
   "cell_type": "raw",
   "id": "8968b107-1f74-422a-8b64-ae013414bdba",
   "metadata": {},
   "source": [
    "Tuple\n",
    "คือ list ที่ไม่สามารถแก้ไขข้อมูลได้  วิธีการสร้างจะคล้ายกับ list แต่เปลี่ยนเครื่องหมาย [ ] เป็น  ( )  "
   ]
  },
  {
   "cell_type": "code",
   "execution_count": 58,
   "id": "fd2ddd46-c99b-4c23-adef-c4a4021891a1",
   "metadata": {},
   "outputs": [
    {
     "name": "stdout",
     "output_type": "stream",
     "text": [
      "5\n"
     ]
    }
   ],
   "source": [
    "num = (1, 5, 9, 3)\n",
    "print(num[1])"
   ]
  },
  {
   "cell_type": "raw",
   "id": "c7ba24ad-7760-4138-98c0-840b65a664ca",
   "metadata": {},
   "source": [
    "Set\n",
    "ไม่มีค่าซ้ำ"
   ]
  },
  {
   "cell_type": "code",
   "execution_count": 62,
   "id": "9d407557-f128-476b-a8e6-ac8a653555fb",
   "metadata": {},
   "outputs": [
    {
     "name": "stdout",
     "output_type": "stream",
     "text": [
      "{1, 3, 5, 9}\n",
      "{1, 3, 6, 9, 15}\n"
     ]
    }
   ],
   "source": [
    "num1 = {1, 5, 9, 3}\n",
    "num2 = {1, 15, 9, 3, 1, 6, 9}\n",
    "print(num1)\n",
    "print(num2)"
   ]
  },
  {
   "cell_type": "code",
   "execution_count": 64,
   "id": "f738b59d-b93f-4f3b-a1b9-031ced3cd1aa",
   "metadata": {},
   "outputs": [
    {
     "name": "stdout",
     "output_type": "stream",
     "text": [
      "Enter num:  100\n"
     ]
    },
    {
     "name": "stdout",
     "output_type": "stream",
     "text": [
      "3500.0\n"
     ]
    }
   ],
   "source": [
    "num = int(input(\"Enter num: \"))\n",
    "num1 = [0.5, 0.7]\n",
    "\n",
    "tax1 = num*num1[0]\n",
    "tax2 = num*num1[1]\n",
    "sumTax = tax1*tax2\n",
    "\n",
    "print(sumTax)"
   ]
  },
  {
   "cell_type": "raw",
   "id": "24119a9b-87ac-4541-b0fd-65721944c391",
   "metadata": {},
   "source": [
    "ชนิดข้อมูลดิกชันนารี (DICTIONARY)\n",
    "ข้อมูลดิกชันนารี (Dictionary) สามารถเปลี่ยนแปลงข้อมูลได้เหมือนกับชนิดข้อมูล LIST คือ เพิ่ม ลบ แก้ไข​\n",
    "การเก็บข้อมูลจะมีลักษณะ  เก็บข้อมูลแบบคู่ประกอบด้วย คีย์ (Key) และค่าข้อมูล (Value)  ​\n",
    "การจัดเก็บสมาชิกจะอยู่ในเครื่องหมายวงเล็บปีกกา {…}​\n",
    "มีการแยกส่วนของ Key และ Value  ด้วยเครื่องหมาย colon  ( : ) และเครื่องหมาย comma ( , ) เพื่อแยกแต่ละคู่ Key และ Value\n",
    "Program = {1: “Python”, 2: “Java”, 3: “PHP”}"
   ]
  },
  {
   "cell_type": "code",
   "execution_count": 2,
   "id": "67b8c508-27df-4392-bd38-155c0a329754",
   "metadata": {},
   "outputs": [
    {
     "name": "stdout",
     "output_type": "stream",
     "text": [
      "{1: 'Python', 2: 'Java', 3: 'PHP'}\n",
      "Java\n",
      "Python\n"
     ]
    }
   ],
   "source": [
    "program = {\n",
    "    1:\"Python\",\n",
    "    2:\"Java\",\n",
    "    3:\"PHP\"\n",
    "}\n",
    "\n",
    "print(program)\n",
    "print(program[2])\n",
    "print(program[1])"
   ]
  },
  {
   "cell_type": "markdown",
   "id": "b3197366",
   "metadata": {},
   "source": [
    "ค่าของ VALUE เป็นได้ทั้งชนิดข้อมูล สตริง  จำนวนเต็ม ทศนิยม  ลิสต์ ทูเพิล เซต  และค่าว่างได้ แต่ค่า KEY ต้องไม่ซ้ำกัน"
   ]
  },
  {
   "cell_type": "code",
   "execution_count": 3,
   "id": "eba54ba9",
   "metadata": {},
   "outputs": [
    {
     "name": "stdout",
     "output_type": "stream",
     "text": [
      "{1: 'Python', 2: 'Java', 3: 'PHP'}\n",
      "{'name1': 'Jack', 'name2': 'Jill', 'name3': ' ', 'name4': 'Joe'}\n",
      "{'CPU': ['i3', 'i5', 'i7'], 'RAM': ['4GB', '16GB', '64GB']}\n",
      "{1.1: 'Science', 1.2: 'Nurse', 1.3: 'Medicine'}\n"
     ]
    }
   ],
   "source": [
    "program = {\n",
    "    1:\"Python\",\n",
    "    2:\"Java\",\n",
    "    3:\"PHP\"\n",
    "}\n",
    "\n",
    "name = {\n",
    "    \"name1\": \"Jack\",\n",
    "    \"name2\": \"Jill\",\n",
    "    \"name3\": \" \",\n",
    "    \"name4\": \"Joe\"\n",
    "}\n",
    "\n",
    "computer = {\n",
    "    \"CPU\": [\"i3\", \"i5\", \"i7\"],\n",
    "    \"RAM\": [\"4GB\", \"16GB\", \"64GB\"]\n",
    "}\n",
    "\n",
    "faculty = {\n",
    "    1.1: \"Science\",\n",
    "    1.2: \"Nurse\",\n",
    "    1.3: \"Medicine\"\n",
    "}\n",
    "\n",
    "print(program)\n",
    "print(name)\n",
    "print(computer)\n",
    "print(faculty)"
   ]
  },
  {
   "cell_type": "markdown",
   "id": "b1b25916",
   "metadata": {},
   "source": [
    "เมธอดและฟังก์ชันที่ใช้กับชนิดข้อมูลดิกชันนารี"
   ]
  },
  {
   "cell_type": "code",
   "execution_count": 5,
   "id": "570573ea",
   "metadata": {},
   "outputs": [
    {
     "name": "stdout",
     "output_type": "stream",
     "text": [
      "{}\n"
     ]
    }
   ],
   "source": [
    "# Method clear\n",
    "program = {\n",
    "    1:\"Python\",\n",
    "    2:\"Java\",\n",
    "    3:\"PHP\"\n",
    "}\n",
    "\n",
    "program.clear()\n",
    "print(program)"
   ]
  },
  {
   "cell_type": "code",
   "execution_count": 6,
   "id": "ead9d7f8",
   "metadata": {},
   "outputs": [
    {
     "name": "stdout",
     "output_type": "stream",
     "text": [
      "{1: 'Python', 2: 'Java', 3: 'PHP'}\n"
     ]
    }
   ],
   "source": [
    "# Method copy\n",
    "program = {\n",
    "    1:\"Python\",\n",
    "    2:\"Java\",\n",
    "    3:\"PHP\"\n",
    "}\n",
    "\n",
    "com_program = program.copy()\n",
    "print(com_program)"
   ]
  },
  {
   "cell_type": "markdown",
   "id": "356f45e0",
   "metadata": {},
   "source": [
    "เมธอด fromkeys() ใช้สร้าง value ให้เหมือนกันทุกค่า แต่ key จะไม่ซ้ำกัน​\n",
    "dict_name.fromkey(key, value=none)\n",
    "​key  คือ key ที่ระบุไม่ซ้ำกัน   ​\n",
    "value=none คือ ข้อมูลของแต่ละ key จะกำหนด​หรือไม่ก็ได้"
   ]
  },
  {
   "cell_type": "code",
   "execution_count": 7,
   "id": "04db4725",
   "metadata": {},
   "outputs": [
    {
     "name": "stdout",
     "output_type": "stream",
     "text": [
      "{1: 'hello', 2: 'hello', 3: 'hello'}\n"
     ]
    }
   ],
   "source": [
    "key_1 = {1, 2, 3}\n",
    "val = \"hello\"\n",
    "output = dict.fromkeys(key_1, val)\n",
    "print(output)"
   ]
  },
  {
   "cell_type": "markdown",
   "id": "1cf7fa41",
   "metadata": {},
   "source": [
    "เมธอด get() ใช้แสดง value ที่เก็บในแต่ละ key ถ้าไม่พบค่า key ที่ระบุ จะแสดงค่าเป็น none​\n",
    "dict_name.get(key, value=none)​\n",
    "value=none คือ value ของแต่ละ key จะกำหนดหรือไม่ก็ได้  "
   ]
  },
  {
   "cell_type": "code",
   "execution_count": 12,
   "id": "81f3635d",
   "metadata": {},
   "outputs": [
    {
     "name": "stdout",
     "output_type": "stream",
     "text": [
      "Java\n",
      "None\n"
     ]
    }
   ],
   "source": [
    "name = {\n",
    "    1: \"Python\",\n",
    "    2: \"Java\",\n",
    "    3: \"PHP\"\n",
    "}\n",
    "output_name1 = name.get(2)\n",
    "output_name2 = name.get(5)\n",
    "print(output_name1)\n",
    "print(output_name2)"
   ]
  },
  {
   "cell_type": "markdown",
   "id": "f1e75ebc",
   "metadata": {},
   "source": [
    "เมธอด items() ใช้แสดงข้อมูลทั้งหมด​\n",
    "dict_name.items()"
   ]
  },
  {
   "cell_type": "code",
   "execution_count": 13,
   "id": "969f5dee",
   "metadata": {},
   "outputs": [
    {
     "name": "stdout",
     "output_type": "stream",
     "text": [
      "dict_items([(1, 'Python'), (2, 'Java'), (3, 'PHP')])\n"
     ]
    }
   ],
   "source": [
    "name = {\n",
    "    1: \"Python\",\n",
    "    2: \"Java\",\n",
    "    3: \"PHP\"\n",
    "}\n",
    "output_name = name.items()\n",
    "print(output_name)"
   ]
  },
  {
   "cell_type": "markdown",
   "id": "c9824796",
   "metadata": {},
   "source": [
    "เมธอด len ใช้แสดงจำนวนข้อมูลทั้งหมด​\n",
    "len(dict_name)"
   ]
  },
  {
   "cell_type": "code",
   "execution_count": 14,
   "id": "351bd1e7",
   "metadata": {},
   "outputs": [
    {
     "name": "stdout",
     "output_type": "stream",
     "text": [
      "3\n"
     ]
    }
   ],
   "source": [
    "dict_name = {\n",
    "    1: \"Python\",\n",
    "    2: \"Java\",\n",
    "    3: \"PHP\"\n",
    "}\n",
    "length = len(dict_name)\n",
    "print(length)"
   ]
  },
  {
   "cell_type": "markdown",
   "id": "f2b1bbaa",
   "metadata": {},
   "source": [
    "แบบฝึกท้ายบท"
   ]
  },
  {
   "cell_type": "code",
   "execution_count": 15,
   "id": "afc71e99",
   "metadata": {},
   "outputs": [
    {
     "name": "stdout",
     "output_type": "stream",
     "text": [
      "5\n",
      "3\n",
      "36\n",
      "9\n"
     ]
    }
   ],
   "source": [
    "a = (1, 2, 3, 4, 5)\n",
    "b = [10, 6, 3, 29, 7]\n",
    "\n",
    "print(a[-1]) # 5\n",
    "print(a[-3]) # 3\n",
    "print(b[1]**a[1]) # 36\n",
    "print(a[2]*b[-3]) # 9"
   ]
  },
  {
   "cell_type": "code",
   "execution_count": 18,
   "id": "97b6f2d8",
   "metadata": {},
   "outputs": [
    {
     "name": "stdout",
     "output_type": "stream",
     "text": [
      "[30, 5, 10.6, 45, 9]\n",
      "[30, 5, 100, 10.6, 45, 9]\n"
     ]
    }
   ],
   "source": [
    "num = [30, 5, 10.6, 45, 9]\n",
    "print(num)\n",
    "num.insert(2, 100)\n",
    "print(num)\n"
   ]
  },
  {
   "cell_type": "code",
   "execution_count": 20,
   "id": "bb547732",
   "metadata": {},
   "outputs": [
    {
     "name": "stdout",
     "output_type": "stream",
     "text": [
      "[99, 12, 30, 'Python', 30, 5, 'language', 45, 9]\n",
      "['Data', 99, 12, 'science', 30, 'Python', 30, 5, 'language', 45, 9]\n"
     ]
    }
   ],
   "source": [
    "x = [99, 12, 30, \"Python\", 30, 5, \"language\", 45, 9]\n",
    "print(x)\n",
    "x.insert(0, \"Data\")\n",
    "x.insert(3, \"science\")\n",
    "print(x)"
   ]
  },
  {
   "cell_type": "code",
   "execution_count": 21,
   "id": "b8752d17",
   "metadata": {},
   "outputs": [
    {
     "name": "stdout",
     "output_type": "stream",
     "text": [
      "Data science\n",
      "Python language\n"
     ]
    }
   ],
   "source": [
    "data = ['Data', 99, 12, 'science', 30, 'Python', 30, 5, 'language', 45, 9]\n",
    "print(f\"{data[0]} {data[3]}\\n{data[-6]} {data[-3]}\")"
   ]
  },
  {
   "cell_type": "code",
   "execution_count": 23,
   "id": "e98b4a7b",
   "metadata": {},
   "outputs": [
    {
     "name": "stdout",
     "output_type": "stream",
     "text": [
      "('Python', 'C++', 'Java', 'PHP')\n",
      "(3, 5, 5, 8, 14, 2, 1)\n"
     ]
    }
   ],
   "source": [
    "n = (\"Python\", \"C++\", \"Java\", \"PHP\", 3, 5, 5, 8, 14, 2, 1)\n",
    "print(n[:4])\n",
    "print(n[4:])"
   ]
  },
  {
   "cell_type": "code",
   "execution_count": 26,
   "id": "952b5993",
   "metadata": {},
   "outputs": [
    {
     "name": "stdout",
     "output_type": "stream",
     "text": [
      "9\n"
     ]
    }
   ],
   "source": [
    "x = [1, 2, 3, 4, 5, 6]\n",
    "y = [8, 7, 6, 5, 4, 3, 2, 1, 0]\n",
    "z = x[1:4] + y[4:5]\n",
    "num = z[1]**z[0] # 9\n",
    "print(num)"
   ]
  },
  {
   "cell_type": "code",
   "execution_count": 27,
   "id": "0ca6843d",
   "metadata": {},
   "outputs": [
    {
     "name": "stdout",
     "output_type": "stream",
     "text": [
      "[0, 1]\n"
     ]
    }
   ],
   "source": [
    "x = [0, 1, 2, 5, 14, 18]\n",
    "print(x[:2]) # 0 1"
   ]
  },
  {
   "cell_type": "code",
   "execution_count": 28,
   "id": "1ddfd15b",
   "metadata": {},
   "outputs": [
    {
     "name": "stdout",
     "output_type": "stream",
     "text": [
      "Month 5: May\n",
      "Month 8: Aug\n",
      "Month 11: Nov\n"
     ]
    }
   ],
   "source": [
    "month_dict = {\n",
    "    1: \"January\",\n",
    "    2: \"February\",\n",
    "    3: \"March\",\n",
    "    4: \"April\",\n",
    "    5: \"May\",\n",
    "    6: \"June\",\n",
    "    7: \"July\",\n",
    "    8: \"August\",\n",
    "    9: \"September\",\n",
    "    10: \"October\",\n",
    "    11: \"November\",\n",
    "    12: \"December\"\n",
    "}\n",
    "\n",
    "month5 = month_dict.get(5)\n",
    "month8 = month_dict.get(8)\n",
    "month11 = month_dict.get(11)\n",
    "\n",
    "print(f\"Month 5: {month5}\\nMonth 8: {month8}\\nMonth 11: {month11}\")"
   ]
  },
  {
   "cell_type": "code",
   "execution_count": 18,
   "id": "d0aac24c",
   "metadata": {},
   "outputs": [
    {
     "name": "stdout",
     "output_type": "stream",
     "text": [
      "[1, 2, 3, 4, 5, 6]\n",
      "[1, 2, 3, 1, 2, 3]\n",
      "['abc', 'Andrew', 'fongda', 'Jirat']\n",
      "[1, 2, 3, 10, 52, 58, 88, 99, 100]\n",
      "[100, 99, 88, 58, 52, 10, 3, 2, 1]\n"
     ]
    }
   ],
   "source": [
    "mylist = [1, 2, 3]\n",
    "newlist = [4, 5, 6]\n",
    "\n",
    "print(mylist + newlist)\n",
    "print(mylist*2)\n",
    "\n",
    "name = [\"Jirat\", \"fongda\", \"Andrew\", \"abc\"]\n",
    "name = sorted(name, key=str.casefold)\n",
    "print(name)\n",
    "\n",
    "number = [10, 52, 88, 99, 1, 2, 3, 58, 100]\n",
    "print(sorted(number))\n",
    "print(sorted(number, reverse=True))\n"
   ]
  },
  {
   "cell_type": "code",
   "execution_count": 43,
   "id": "e30b2be8",
   "metadata": {},
   "outputs": [
    {
     "name": "stdout",
     "output_type": "stream",
     "text": [
      "1: \"0001\"\n",
      "2: \"0010\"\n",
      "3: \"0011\"\n",
      "0010\n",
      "NO ENTRY\n",
      "Hello---World\n"
     ]
    }
   ],
   "source": [
    "myDict = {\n",
    "    1: \"0001\",\n",
    "    2: \"0010\",\n",
    "    3: \"0011\"\n",
    "}\n",
    "\n",
    "for i in myDict:\n",
    "    print(f\"{i}: \\\"{myDict[i]}\\\"\")\n",
    "\n",
    "print(myDict.get(2))\n",
    "print(myDict.get(4, \"NO ENTRY\"))\n",
    "print(\"Hello\",\"World\", sep=\"---\")"
   ]
  },
  {
   "cell_type": "code",
   "execution_count": 47,
   "id": "1bf1a64c",
   "metadata": {},
   "outputs": [
    {
     "name": "stdout",
     "output_type": "stream",
     "text": [
      "                 500\n",
      "500                  Hello\n",
      "                +500 Hello\n",
      "00000000000000000500 Hello\n",
      "              500.00 Hello\n",
      "Name: John, Age: 30, City: New York\n",
      "[1, 4, 9, 16, 25, 36, 49, 64, 81, 100]\n",
      "[1, 9, 25, 49, 81]\n",
      "['C', 'M', 'P', 'R', 'H', 'N', 'S', 'N']\n"
     ]
    }
   ],
   "source": [
    "number = 500\n",
    "print(\"%20d\" % number)\n",
    "print(\"%-20d Hello\" % number)\n",
    "print(\"%+20d Hello\" % number)\n",
    "print(\"%020d Hello\" % number)\n",
    "print(\"%20.2f Hello\" % number)\n",
    "\n",
    "data = {\n",
    "    'name': 'John',\n",
    "    'age': 30,\n",
    "    'city': 'New York'\n",
    "}\n",
    "\n",
    "# ดึงค่าจาก dictionary โดยใช้การฟอร์แมตแบบเก่า\n",
    "print(\"Name: %(name)s, Age: %(age)d, City: %(city)s\" % data)\n",
    "sqlist = [x*x for x in range(1, 11)]\n",
    "print(sqlist)\n",
    "\n",
    "sqlist = [x*x for x in range(1, 11) if x%2 != 0]\n",
    "print(sqlist)\n",
    "\n",
    "print([ch.upper() for ch in 'comprehension' if ch not in 'aeiou'])\n"
   ]
  }
 ],
 "metadata": {
  "kernelspec": {
   "display_name": "Python 3 (ipykernel)",
   "language": "python",
   "name": "python3"
  },
  "language_info": {
   "codemirror_mode": {
    "name": "ipython",
    "version": 3
   },
   "file_extension": ".py",
   "mimetype": "text/x-python",
   "name": "python",
   "nbconvert_exporter": "python",
   "pygments_lexer": "ipython3",
   "version": "3.12.3"
  }
 },
 "nbformat": 4,
 "nbformat_minor": 5
}
