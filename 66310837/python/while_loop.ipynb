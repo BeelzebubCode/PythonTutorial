{
 "cells": [
  {
   "cell_type": "code",
   "execution_count": 15,
   "metadata": {},
   "outputs": [
    {
     "name": "stdout",
     "output_type": "stream",
     "text": [
      "5000.0\n"
     ]
    }
   ],
   "source": [
    "i = 1\n",
    "sum = 0\n",
    "while i <= 5:\n",
    "    salary = float(input())\n",
    "    sum += salary\n",
    "    i+= 1\n",
    "\n",
    "print(sum)"
   ]
  },
  {
   "cell_type": "code",
   "execution_count": 18,
   "metadata": {},
   "outputs": [
    {
     "name": "stdout",
     "output_type": "stream",
     "text": [
      "6\n"
     ]
    }
   ],
   "source": [
    "sum = 0\n",
    "while True:\n",
    "    number = int(input())\n",
    "    if number == 0: break\n",
    "    if number %2 == 0 and number %3 == 0:\n",
    "        sum += number\n",
    "        \n",
    "print(sum)"
   ]
  },
  {
   "cell_type": "code",
   "execution_count": 3,
   "metadata": {},
   "outputs": [
    {
     "name": "stdout",
     "output_type": "stream",
     "text": [
      "input: 7\n",
      "Sum = 28\n",
      "Avg = 4.0\n"
     ]
    }
   ],
   "source": [
    "n = int(input())\n",
    "i, sum = 1, 0\n",
    "while i <= n:\n",
    "    sum += i\n",
    "    i+=1\n",
    "\n",
    "avg = sum / n\n",
    "print(f\"input: {n}\")\n",
    "print(f\"Sum = {sum}\\nAvg = {avg}\")"
   ]
  },
  {
   "cell_type": "code",
   "execution_count": null,
   "metadata": {},
   "outputs": [],
   "source": []
  },
  {
   "cell_type": "code",
   "execution_count": 8,
   "metadata": {},
   "outputs": [
    {
     "name": "stdout",
     "output_type": "stream",
     "text": [
      "0\n"
     ]
    }
   ],
   "source": [
    "n = int(input())\n",
    "i, sum = 1, 0\n",
    "while i < n:\n",
    "    if i%3 == 0 or i%5 == 0:\n",
    "        sum += i\n",
    "    i += 1\n",
    "\n",
    "print(sum)"
   ]
  },
  {
   "cell_type": "code",
   "execution_count": 4,
   "metadata": {},
   "outputs": [],
   "source": [
    "n = int(input())\n",
    "\n",
    "if n > 0:\n",
    "    i = 1; numbers = []\n",
    "    count = 0\n",
    "    while i <= n:\n",
    "        num = int(input())\n",
    "        numbers.append(num)\n",
    "        if num < 0: \n",
    "            count+=1\n",
    "        i += 1\n",
    "\n",
    "    number_range = max(numbers) - min(numbers)\n",
    "    print(f\"input: {n}\")\n",
    "    print(f\"input all : {' '.join(map(str, numbers))}\")\n",
    "    print(f\"ผลต่าง: {number_range} ค่าลบ: {count}\")"
   ]
  },
  {
   "cell_type": "code",
   "execution_count": 2,
   "metadata": {},
   "outputs": [
    {
     "name": "stdout",
     "output_type": "stream",
     "text": [
      "[1, 1, 3, 5, 7, 8, 9, 10, 12, 14, 15, 19, 21, 23, 30, 40, 45, 50, 50, 55, 55, 60, 62, 66, 70, 87, 88, 99, 100, 808]\n"
     ]
    }
   ],
   "source": [
    "MIN_RUN = 32\n",
    "\n",
    "def insertion_sort(array, left, right):\n",
    "    for i in range(left + 1, right + 1):\n",
    "        key = array[i]\n",
    "        j = i - 1\n",
    "        while j >= left and array[j] > key:\n",
    "            array[j + 1] = array[j]\n",
    "            j -= 1\n",
    "        array[j + 1] = key\n",
    "\n",
    "def merge(array, left, mid, right):\n",
    "    len1, len2 = mid - left + 1, right - mid\n",
    "    left_part, right_part = [], []\n",
    "    for i in range(len1):\n",
    "        left_part.append(array[left + i])\n",
    "    for i in range(len2):\n",
    "        right_part.append(array[mid + 1 + i])\n",
    "    \n",
    "    i, j, k = 0, 0, left\n",
    "    while i < len1 and j < len2:\n",
    "        if left_part[i] <= right_part[j]:\n",
    "            array[k] = left_part[i]\n",
    "            i += 1\n",
    "        else:\n",
    "            array[k] = right_part[j]\n",
    "            j += 1\n",
    "        k += 1\n",
    "    \n",
    "    while i < len1:\n",
    "        array[k] = left_part[i]\n",
    "        i += 1\n",
    "        k += 1\n",
    "    \n",
    "    while j < len2:\n",
    "        array[k] = right_part[j]\n",
    "        j += 1\n",
    "        k += 1\n",
    "\n",
    "def tim_sort(array):\n",
    "    n = len(array)\n",
    "    for i in range(0, n, MIN_RUN):\n",
    "        insertion_sort(array, i, min((i + MIN_RUN - 1), (n - 1)))\n",
    "\n",
    "    size = MIN_RUN\n",
    "    while size < n:\n",
    "        for left in range(0, n, 2 * size):\n",
    "            mid = min((n - 1), (left + size - 1))\n",
    "            right = min((left + 2 * size - 1), (n - 1))\n",
    "            if mid < right:\n",
    "                merge(array, left, mid, right)\n",
    "        size = 2 * size\n",
    "\n",
    "# การใช้งาน Tim Sort\n",
    "array = [5, 21, 7, 23, 19, 10, 1, 3, 8, 15, 9, 14, 100, 99, 50, 60, 45, 87, 55, 66, 12, 55, 62, 30, 1, 40, 50, 70, 88, 808]\n",
    "tim_sort(array)\n",
    "print(array)  # Output: [1, 3, 5, 7, 8, 9, 10, 14, 15, 19, 21, 23]"
   ]
  },
  {
   "cell_type": "code",
   "execution_count": 13,
   "metadata": {},
   "outputs": [
    {
     "name": "stdout",
     "output_type": "stream",
     "text": [
      "0\n"
     ]
    }
   ],
   "source": [
    "# x = 4\n",
    "# while x<12:\n",
    "#     x += 3\n",
    "#     if x == 8:\n",
    "#         continue\n",
    "#     print(x)\n",
    "\n",
    "# x = 1\n",
    "# while x<=10:\n",
    "#     x += 1\n",
    "#     if x % 2 == 0:\n",
    "#         continue\n",
    "#     print(x, end=\" \") \n",
    "#     print(\"Hello\")\n",
    "\n",
    "# x = [0, 1, 2, 5, 14, 18]\n",
    "# print(x[:2])\n",
    "\n",
    "# number = int(input())\n",
    "# i = 1\n",
    "# while i <= 12:\n",
    "#     print(\"%d * %d = %d\" % (number, i, (number*i)))\n",
    "#     i += 1\n",
    "\n",
    "# a = [1, 2, 3, 4, 5, 6, 7, 8]\n",
    "# i = 0\n",
    "# while i < len(a):\n",
    "#     print(a[i], end=\" \")\n",
    "#     i += 1\n",
    "\n",
    "# number = 10; i = 0\n",
    "# while i < number:\n",
    "#     i += 1\n",
    "#     if i % 2 == 0:\n",
    "#         continue\n",
    "#     print(i)\n",
    "\n",
    "\n",
    "# i = 1; sum = 0\n",
    "# while i <= 3:\n",
    "#     score = float(input(\"Enter your scores : \"))\n",
    "#     sum += score\n",
    "#     i+= 1\n",
    "# total = sum/3\n",
    "# print(\"Avg score student: %.2f\" % total)\n",
    "\n",
    "# x = [3.5, 2, 10.5, 8]\n",
    "# y = 0\n",
    "# while y < len(x):\n",
    "#     print(x[y+1])\n",
    "#     y += 2\n",
    "\n",
    "# x = 4\n",
    "# while x < 12:\n",
    "#     x += 3\n",
    "#     if x == 8: continue\n",
    "#     print(x)\n",
    "\n",
    "# number = int(input())\n",
    "# i = 1; sum = 0\n",
    "# while i < number:\n",
    "#     if i % 3 == 0 or i % 5 == 0:\n",
    "#         sum += i\n",
    "#     i += 1\n",
    "# print(sum)"
   ]
  },
  {
   "cell_type": "code",
   "execution_count": 5,
   "metadata": {},
   "outputs": [
    {
     "name": "stdout",
     "output_type": "stream",
     "text": [
      "1\n"
     ]
    }
   ],
   "source": [
    "# a = [\"A\", \"B\", \"C\"]\n",
    "# i = 0\n",
    "# while i<len(a):\n",
    "#     print(a[i], end=\" \")\n",
    "#     i+=1\n",
    "\n",
    "# i = 1\n",
    "# while i <= 3:\n",
    "#     name = input()\n",
    "#     i+=1\n",
    "\n",
    "# i = 0\n",
    "# while i <= 10:\n",
    "#     i += 1\n",
    "#     if i == 5:\n",
    "#         continue\n",
    "#     print(i)\n",
    "#     print(\"Hello WOrld\")\n",
    "# print(\"[[[[[[]]]]]]\")\n",
    "\n",
    "# while True:\n",
    "#     num = int(input())\n",
    "#     if num == 0: break\n",
    "\n",
    "# i = 1\n",
    "# while i <= 5:\n",
    "#     print(i)\n",
    "#     i += 1\n",
    "# else:\n",
    "#     print(\"Else\")\n",
    "\n",
    "# num = int(input())\n",
    "# mylist = ['zero','one','two','three','four','five','six','seven','eight','nine']\n",
    "# print(num , '-->' , mylist[num])\n",
    "\n",
    "# n = input().split()\n",
    "# n = list(map(int,n))\n",
    "# s = sum(n)\n",
    "# print(s)\n",
    "\n",
    "# n_sum = 0\n",
    "# n_avg = 0\n",
    "# while True:\n",
    "#     num = input()\n",
    "#     if num == 'q':\n",
    "#         break\n",
    "#     n = float(num)\n",
    "#     n_sum += n\n",
    "#     n_avg += 1\n",
    "\n",
    "# if n_sum == 0:\n",
    "#     print(\"No Data\")\n",
    "# else:\n",
    "#     print(round(n_sum / n_avg , 5))\n",
    "\n",
    "# ans = input()\n",
    "# std = input()\n",
    "\n",
    "# if len(ans) == len(std):\n",
    "#     score = 0\n",
    "#     i = 0\n",
    "#     while i < len(ans):\n",
    "#         if std[i] == ans[i]:\n",
    "#             score += 1\n",
    "#         i += 1\n",
    "#     print(score)\n",
    "# else:\n",
    "#     print(\"Incomplete answer\")\n",
    "\n",
    "word = input()\n",
    "sent = input()\n",
    "\n",
    "word_count = sent.count(word)\n",
    "print(word_count)"
   ]
  },
  {
   "cell_type": "code",
   "execution_count": 38,
   "metadata": {},
   "outputs": [
    {
     "name": "stdout",
     "output_type": "stream",
     "text": [
      "1.0\n",
      "2\n",
      "Lemon\n",
      "['Lemon', 'Kiwi', 'orange', 'apple']\n"
     ]
    }
   ],
   "source": [
    "# s = float(input())\n",
    "# if s >= 80:\n",
    "#     x = 'A'\n",
    "# elif s >= 70:\n",
    "#     x = 'B'\n",
    "# elif s >= 60:\n",
    "#     x = 'C'\n",
    "# elif s >= 50:\n",
    "#     x = 'D'\n",
    "# else:\n",
    "#     x = 'F'\n",
    "\n",
    "# print(x)\n",
    "\n",
    "# import math as m\n",
    "# import random as rd\n",
    "# base = 10\n",
    "# log_10 = m.log(10, base)\n",
    "# print(log_10)\n",
    "\n",
    "# x = [\"apple\", \"orange\", \"Kiwi\", \"Lemon\"]\n",
    "# number = rd.randint(1, 10)\n",
    "# print(number)\n",
    "\n",
    "# random_fruits = rd.choice(x)\n",
    "# rd.shuffle(x)\n",
    "# print(random_fruits)\n",
    "# print(x)\n",
    "\n",
    "# print(eval(input(\">>\")))"
   ]
  },
  {
   "cell_type": "code",
   "execution_count": 8,
   "metadata": {},
   "outputs": [
    {
     "name": "stdout",
     "output_type": "stream",
     "text": [
      "sum = 78\n"
     ]
    }
   ],
   "source": [
    "num = int(input())\n",
    "\n",
    "i = 1; sum = 0\n",
    "while i < num:\n",
    "    if i % 3 == 0 or i % 5 == 0:\n",
    "        sum += i\n",
    "    i += 1\n",
    "\n",
    "print(f\"sum = {sum}\")"
   ]
  },
  {
   "cell_type": "code",
   "execution_count": 15,
   "metadata": {},
   "outputs": [
    {
     "name": "stdout",
     "output_type": "stream",
     "text": [
      "False True True\n",
      "10\n"
     ]
    }
   ],
   "source": [
    "a = 10; b = 20; c = 70\n",
    "print(bool(0), bool(-1), bool(1))\n",
    "print(a or b > c)"
   ]
  },
  {
   "cell_type": "code",
   "execution_count": 20,
   "metadata": {},
   "outputs": [
    {
     "name": "stdout",
     "output_type": "stream",
     "text": [
      "2 4 6 8 10 12\n",
      "SUM Odd = 36\n"
     ]
    }
   ],
   "source": [
    "\"\"\"\n",
    "Input: 12\n",
    "\n",
    "2 4 6 8 10 12\n",
    "SUM Odd = 36\n",
    "\"\"\"\n",
    "n = int(input())\n",
    "\n",
    "even = []; sum_odd = 0\n",
    "for i in range(1, n+1):\n",
    "    if i % 2 == 0:\n",
    "        even.append(str(i))\n",
    "    else:\n",
    "        sum_odd += i\n",
    "\n",
    "print(' '.join(even))\n",
    "print(f\"SUM Odd = {sum_odd}\")"
   ]
  },
  {
   "cell_type": "code",
   "execution_count": 22,
   "metadata": {},
   "outputs": [
    {
     "name": "stdout",
     "output_type": "stream",
     "text": [
      "aBc\n"
     ]
    }
   ],
   "source": [
    "A = [\"a\", \"B\", \"c\"]\n",
    "print(''.join(A))"
   ]
  },
  {
   "cell_type": "code",
   "execution_count": 23,
   "metadata": {},
   "outputs": [
    {
     "name": "stdout",
     "output_type": "stream",
     "text": [
      "{1, 2, 3}\n"
     ]
    }
   ],
   "source": [
    "s_e_t = {3, 2, 1}\n",
    "print(s_e_t)"
   ]
  }
 ],
 "metadata": {
  "kernelspec": {
   "display_name": "Python 3",
   "language": "python",
   "name": "python3"
  },
  "language_info": {
   "codemirror_mode": {
    "name": "ipython",
    "version": 3
   },
   "file_extension": ".py",
   "mimetype": "text/x-python",
   "name": "python",
   "nbconvert_exporter": "python",
   "pygments_lexer": "ipython3",
   "version": "3.12.3"
  }
 },
 "nbformat": 4,
 "nbformat_minor": 2
}
