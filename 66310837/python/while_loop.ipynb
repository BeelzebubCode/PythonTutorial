{
 "cells": [
  {
   "cell_type": "code",
   "execution_count": 15,
   "metadata": {},
   "outputs": [
    {
     "name": "stdout",
     "output_type": "stream",
     "text": [
      "5000.0\n"
     ]
    }
   ],
   "source": [
    "i = 1\n",
    "sum = 0\n",
    "while i <= 5:\n",
    "    salary = float(input())\n",
    "    sum += salary\n",
    "    i+= 1\n",
    "\n",
    "print(sum)"
   ]
  },
  {
   "cell_type": "code",
   "execution_count": 18,
   "metadata": {},
   "outputs": [
    {
     "name": "stdout",
     "output_type": "stream",
     "text": [
      "6\n"
     ]
    }
   ],
   "source": [
    "sum = 0\n",
    "while True:\n",
    "    number = int(input())\n",
    "    if number == 0: break\n",
    "    if number %2 == 0 and number %3 == 0:\n",
    "        sum += number\n",
    "        \n",
    "print(sum)"
   ]
  },
  {
   "cell_type": "code",
   "execution_count": 3,
   "metadata": {},
   "outputs": [
    {
     "name": "stdout",
     "output_type": "stream",
     "text": [
      "input: 7\n",
      "Sum = 28\n",
      "Avg = 4.0\n"
     ]
    }
   ],
   "source": [
    "n = int(input())\n",
    "i, sum = 1, 0\n",
    "while i <= n:\n",
    "    sum += i\n",
    "    i+=1\n",
    "\n",
    "avg = sum / n\n",
    "print(f\"input: {n}\")\n",
    "print(f\"Sum = {sum}\\nAvg = {avg}\")"
   ]
  },
  {
   "cell_type": "code",
   "execution_count": null,
   "metadata": {},
   "outputs": [],
   "source": []
  },
  {
   "cell_type": "code",
   "execution_count": 8,
   "metadata": {},
   "outputs": [
    {
     "name": "stdout",
     "output_type": "stream",
     "text": [
      "0\n"
     ]
    }
   ],
   "source": [
    "n = int(input())\n",
    "i, sum = 1, 0\n",
    "while i < n:\n",
    "    if i%3 == 0 or i%5 == 0:\n",
    "        sum += i\n",
    "    i += 1\n",
    "\n",
    "print(sum)"
   ]
  },
  {
   "cell_type": "code",
   "execution_count": 4,
   "metadata": {},
   "outputs": [],
   "source": [
    "n = int(input())\n",
    "\n",
    "if n > 0:\n",
    "    i = 1; numbers = []\n",
    "    count = 0\n",
    "    while i <= n:\n",
    "        num = int(input())\n",
    "        numbers.append(num)\n",
    "        if num < 0: \n",
    "            count+=1\n",
    "        i += 1\n",
    "\n",
    "    number_range = max(numbers) - min(numbers)\n",
    "    print(f\"input: {n}\")\n",
    "    print(f\"input all : {' '.join(map(str, numbers))}\")\n",
    "    print(f\"ผลต่าง: {number_range} ค่าลบ: {count}\")"
   ]
  },
  {
   "cell_type": "code",
   "execution_count": 2,
   "metadata": {},
   "outputs": [
    {
     "name": "stdout",
     "output_type": "stream",
     "text": [
      "[1, 1, 3, 5, 7, 8, 9, 10, 12, 14, 15, 19, 21, 23, 30, 40, 45, 50, 50, 55, 55, 60, 62, 66, 70, 87, 88, 99, 100, 808]\n"
     ]
    }
   ],
   "source": [
    "MIN_RUN = 32\n",
    "\n",
    "def insertion_sort(array, left, right):\n",
    "    for i in range(left + 1, right + 1):\n",
    "        key = array[i]\n",
    "        j = i - 1\n",
    "        while j >= left and array[j] > key:\n",
    "            array[j + 1] = array[j]\n",
    "            j -= 1\n",
    "        array[j + 1] = key\n",
    "\n",
    "def merge(array, left, mid, right):\n",
    "    len1, len2 = mid - left + 1, right - mid\n",
    "    left_part, right_part = [], []\n",
    "    for i in range(len1):\n",
    "        left_part.append(array[left + i])\n",
    "    for i in range(len2):\n",
    "        right_part.append(array[mid + 1 + i])\n",
    "    \n",
    "    i, j, k = 0, 0, left\n",
    "    while i < len1 and j < len2:\n",
    "        if left_part[i] <= right_part[j]:\n",
    "            array[k] = left_part[i]\n",
    "            i += 1\n",
    "        else:\n",
    "            array[k] = right_part[j]\n",
    "            j += 1\n",
    "        k += 1\n",
    "    \n",
    "    while i < len1:\n",
    "        array[k] = left_part[i]\n",
    "        i += 1\n",
    "        k += 1\n",
    "    \n",
    "    while j < len2:\n",
    "        array[k] = right_part[j]\n",
    "        j += 1\n",
    "        k += 1\n",
    "\n",
    "def tim_sort(array):\n",
    "    n = len(array)\n",
    "    for i in range(0, n, MIN_RUN):\n",
    "        insertion_sort(array, i, min((i + MIN_RUN - 1), (n - 1)))\n",
    "\n",
    "    size = MIN_RUN\n",
    "    while size < n:\n",
    "        for left in range(0, n, 2 * size):\n",
    "            mid = min((n - 1), (left + size - 1))\n",
    "            right = min((left + 2 * size - 1), (n - 1))\n",
    "            if mid < right:\n",
    "                merge(array, left, mid, right)\n",
    "        size = 2 * size\n",
    "\n",
    "# การใช้งาน Tim Sort\n",
    "array = [5, 21, 7, 23, 19, 10, 1, 3, 8, 15, 9, 14, 100, 99, 50, 60, 45, 87, 55, 66, 12, 55, 62, 30, 1, 40, 50, 70, 88, 808]\n",
    "tim_sort(array)\n",
    "print(array)  # Output: [1, 3, 5, 7, 8, 9, 10, 14, 15, 19, 21, 23]"
   ]
  }
 ],
 "metadata": {
  "kernelspec": {
   "display_name": "Python 3",
   "language": "python",
   "name": "python3"
  },
  "language_info": {
   "codemirror_mode": {
    "name": "ipython",
    "version": 3
   },
   "file_extension": ".py",
   "mimetype": "text/x-python",
   "name": "python",
   "nbconvert_exporter": "python",
   "pygments_lexer": "ipython3",
   "version": "3.12.3"
  }
 },
 "nbformat": 4,
 "nbformat_minor": 2
}
