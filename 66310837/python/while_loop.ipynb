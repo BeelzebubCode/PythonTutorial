{
 "cells": [
  {
   "cell_type": "code",
   "execution_count": 15,
   "metadata": {},
   "outputs": [
    {
     "name": "stdout",
     "output_type": "stream",
     "text": [
      "5000.0\n"
     ]
    }
   ],
   "source": [
    "i = 1\n",
    "sum = 0\n",
    "while i <= 5:\n",
    "    salary = float(input())\n",
    "    sum += salary\n",
    "    i+= 1\n",
    "\n",
    "print(sum)"
   ]
  },
  {
   "cell_type": "code",
   "execution_count": 18,
   "metadata": {},
   "outputs": [
    {
     "name": "stdout",
     "output_type": "stream",
     "text": [
      "6\n"
     ]
    }
   ],
   "source": [
    "sum = 0\n",
    "while True:\n",
    "    number = int(input())\n",
    "    if number == 0: break\n",
    "    if number %2 == 0 and number %3 == 0:\n",
    "        sum += number\n",
    "        \n",
    "print(sum)"
   ]
  },
  {
   "cell_type": "code",
   "execution_count": 3,
   "metadata": {},
   "outputs": [
    {
     "name": "stdout",
     "output_type": "stream",
     "text": [
      "input: 7\n",
      "Sum = 28\n",
      "Avg = 4.0\n"
     ]
    }
   ],
   "source": [
    "n = int(input())\n",
    "i, sum = 1, 0\n",
    "while i <= n:\n",
    "    sum += i\n",
    "    i+=1\n",
    "\n",
    "avg = sum / n\n",
    "print(f\"input: {n}\")\n",
    "print(f\"Sum = {sum}\\nAvg = {avg}\")"
   ]
  },
  {
   "cell_type": "code",
   "execution_count": null,
   "metadata": {},
   "outputs": [],
   "source": []
  },
  {
   "cell_type": "code",
   "execution_count": 8,
   "metadata": {},
   "outputs": [
    {
     "name": "stdout",
     "output_type": "stream",
     "text": [
      "0\n"
     ]
    }
   ],
   "source": [
    "n = int(input())\n",
    "i, sum = 1, 0\n",
    "while i < n:\n",
    "    if i%3 == 0 or i%5 == 0:\n",
    "        sum += i\n",
    "    i += 1\n",
    "\n",
    "print(sum)"
   ]
  },
  {
   "cell_type": "code",
   "execution_count": 4,
   "metadata": {},
   "outputs": [],
   "source": [
    "n = int(input())\n",
    "\n",
    "if n > 0:\n",
    "    i = 1; numbers = []\n",
    "    count = 0\n",
    "    while i <= n:\n",
    "        num = int(input())\n",
    "        numbers.append(num)\n",
    "        if num < 0: \n",
    "            count+=1\n",
    "        i += 1\n",
    "\n",
    "    number_range = max(numbers) - min(numbers)\n",
    "    print(f\"input: {n}\")\n",
    "    print(f\"input all : {' '.join(map(str, numbers))}\")\n",
    "    print(f\"ผลต่าง: {number_range} ค่าลบ: {count}\")"
   ]
  }
 ],
 "metadata": {
  "kernelspec": {
   "display_name": "Python 3",
   "language": "python",
   "name": "python3"
  },
  "language_info": {
   "codemirror_mode": {
    "name": "ipython",
    "version": 3
   },
   "file_extension": ".py",
   "mimetype": "text/x-python",
   "name": "python",
   "nbconvert_exporter": "python",
   "pygments_lexer": "ipython3",
   "version": "3.12.3"
  }
 },
 "nbformat": 4,
 "nbformat_minor": 2
}
